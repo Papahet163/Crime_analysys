{
 "cells": [
  {
   "cell_type": "markdown",
   "id": "047674ee",
   "metadata": {
    "id": "047674ee"
   },
   "source": [
    "# Часть 1 Бустинг (5 баллов)"
   ]
  },
  {
   "cell_type": "markdown",
   "id": "d8461109",
   "metadata": {
    "id": "d8461109"
   },
   "source": [
    "В этой части будем предсказывать зарплату data scientist-ов в зависимости  от ряда факторов с помощью градиентного бустинга."
   ]
  },
  {
   "cell_type": "markdown",
   "id": "1651e8dd",
   "metadata": {
    "id": "1651e8dd"
   },
   "source": [
    "В датасете есть следующие признаки:\n",
    "\n",
    "\n",
    "\n",
    "* work_year: The number of years of work experience in the field of data science.\n",
    "\n",
    "* experience_level: The level of experience, such as Junior, Senior, or Lead.\n",
    "\n",
    "* employment_type: The type of employment, such as Full-time or Contract.\n",
    "\n",
    "* job_title: The specific job title or role, such as Data Analyst or Data Scientist.\n",
    "\n",
    "* salary: The salary amount for the given job.\n",
    "\n",
    "* salary_currency: The currency in which the salary is denoted.\n",
    "\n",
    "* salary_in_usd: The equivalent salary amount converted to US dollars (USD) for comparison purposes.\n",
    "\n",
    "* employee_residence: The country or region where the employee resides.\n",
    "\n",
    "* remote_ratio: The percentage of remote work offered in the job.\n",
    "\n",
    "* company_location: The location of the company or organization.\n",
    "\n",
    "* company_size: The company's size is categorized as Small, Medium, or Large."
   ]
  },
  {
   "cell_type": "code",
   "execution_count": 57,
   "id": "dbf7595c",
   "metadata": {
    "colab": {
     "base_uri": "https://localhost:8080/",
     "height": 330
    },
    "id": "dbf7595c",
    "outputId": "1b27c9f2-85d2-4971-a592-6b4aaba9f94a"
   },
   "outputs": [
    {
     "data": {
      "text/html": [
       "<div>\n",
       "<style scoped>\n",
       "    .dataframe tbody tr th:only-of-type {\n",
       "        vertical-align: middle;\n",
       "    }\n",
       "\n",
       "    .dataframe tbody tr th {\n",
       "        vertical-align: top;\n",
       "    }\n",
       "\n",
       "    .dataframe thead th {\n",
       "        text-align: right;\n",
       "    }\n",
       "</style>\n",
       "<table border=\"1\" class=\"dataframe\">\n",
       "  <thead>\n",
       "    <tr style=\"text-align: right;\">\n",
       "      <th></th>\n",
       "      <th>work_year</th>\n",
       "      <th>experience_level</th>\n",
       "      <th>employment_type</th>\n",
       "      <th>job_title</th>\n",
       "      <th>salary</th>\n",
       "      <th>salary_currency</th>\n",
       "      <th>salary_in_usd</th>\n",
       "      <th>employee_residence</th>\n",
       "      <th>remote_ratio</th>\n",
       "      <th>company_location</th>\n",
       "      <th>company_size</th>\n",
       "    </tr>\n",
       "  </thead>\n",
       "  <tbody>\n",
       "    <tr>\n",
       "      <th>0</th>\n",
       "      <td>2023</td>\n",
       "      <td>SE</td>\n",
       "      <td>FT</td>\n",
       "      <td>Principal Data Scientist</td>\n",
       "      <td>80000</td>\n",
       "      <td>EUR</td>\n",
       "      <td>85847</td>\n",
       "      <td>ES</td>\n",
       "      <td>100</td>\n",
       "      <td>ES</td>\n",
       "      <td>L</td>\n",
       "    </tr>\n",
       "    <tr>\n",
       "      <th>1</th>\n",
       "      <td>2023</td>\n",
       "      <td>MI</td>\n",
       "      <td>CT</td>\n",
       "      <td>ML Engineer</td>\n",
       "      <td>30000</td>\n",
       "      <td>USD</td>\n",
       "      <td>30000</td>\n",
       "      <td>US</td>\n",
       "      <td>100</td>\n",
       "      <td>US</td>\n",
       "      <td>S</td>\n",
       "    </tr>\n",
       "    <tr>\n",
       "      <th>2</th>\n",
       "      <td>2023</td>\n",
       "      <td>MI</td>\n",
       "      <td>CT</td>\n",
       "      <td>ML Engineer</td>\n",
       "      <td>25500</td>\n",
       "      <td>USD</td>\n",
       "      <td>25500</td>\n",
       "      <td>US</td>\n",
       "      <td>100</td>\n",
       "      <td>US</td>\n",
       "      <td>S</td>\n",
       "    </tr>\n",
       "    <tr>\n",
       "      <th>3</th>\n",
       "      <td>2023</td>\n",
       "      <td>SE</td>\n",
       "      <td>FT</td>\n",
       "      <td>Data Scientist</td>\n",
       "      <td>175000</td>\n",
       "      <td>USD</td>\n",
       "      <td>175000</td>\n",
       "      <td>CA</td>\n",
       "      <td>100</td>\n",
       "      <td>CA</td>\n",
       "      <td>M</td>\n",
       "    </tr>\n",
       "    <tr>\n",
       "      <th>4</th>\n",
       "      <td>2023</td>\n",
       "      <td>SE</td>\n",
       "      <td>FT</td>\n",
       "      <td>Data Scientist</td>\n",
       "      <td>120000</td>\n",
       "      <td>USD</td>\n",
       "      <td>120000</td>\n",
       "      <td>CA</td>\n",
       "      <td>100</td>\n",
       "      <td>CA</td>\n",
       "      <td>M</td>\n",
       "    </tr>\n",
       "  </tbody>\n",
       "</table>\n",
       "</div>"
      ],
      "text/plain": [
       "   work_year experience_level employment_type                 job_title  \\\n",
       "0       2023               SE              FT  Principal Data Scientist   \n",
       "1       2023               MI              CT               ML Engineer   \n",
       "2       2023               MI              CT               ML Engineer   \n",
       "3       2023               SE              FT            Data Scientist   \n",
       "4       2023               SE              FT            Data Scientist   \n",
       "\n",
       "   salary salary_currency  salary_in_usd employee_residence  remote_ratio  \\\n",
       "0   80000             EUR          85847                 ES           100   \n",
       "1   30000             USD          30000                 US           100   \n",
       "2   25500             USD          25500                 US           100   \n",
       "3  175000             USD         175000                 CA           100   \n",
       "4  120000             USD         120000                 CA           100   \n",
       "\n",
       "  company_location company_size  \n",
       "0               ES            L  \n",
       "1               US            S  \n",
       "2               US            S  \n",
       "3               CA            M  \n",
       "4               CA            M  "
      ]
     },
     "execution_count": 57,
     "metadata": {},
     "output_type": "execute_result"
    }
   ],
   "source": [
    "import pandas as pd\n",
    "\n",
    "df = pd.read_csv(\"ds_salaries.csv\")\n",
    "df.head()"
   ]
  },
  {
   "cell_type": "markdown",
   "id": "6696e77a",
   "metadata": {
    "id": "6696e77a"
   },
   "source": [
    "## Задание 1 (0.5 балла) Подготовка"
   ]
  },
  {
   "cell_type": "markdown",
   "id": "0cb13dc7",
   "metadata": {
    "id": "0cb13dc7"
   },
   "source": [
    "\n",
    "\n",
    "*   Разделите выборку на train, val, test (80%, 10%, 10%)\n",
    "*   Выберите salary_in_usd в качестве таргета\n",
    "*   Найдите и удалите признак, из-за которого возможен лик в данных\n"
   ]
  },
  {
   "cell_type": "code",
   "execution_count": 58,
   "id": "HJNGYRCjYG8A",
   "metadata": {
    "id": "HJNGYRCjYG8A"
   },
   "outputs": [],
   "source": [
    "from sklearn.model_selection import train_test_split\n",
    "df = df.drop(columns = ['salary'])\n",
    "X = df.drop(columns=['salary_in_usd'])\n",
    "y = df['salary_in_usd']\n",
    "\n",
    "X_train, X_temp, y_train, y_temp = train_test_split(X, y, test_size=0.2, random_state=42)\n",
    "X_val, X_test, y_val, y_test = train_test_split(X_temp, y_temp, test_size=0.5, random_state=42)\n"
   ]
  },
  {
   "cell_type": "markdown",
   "id": "39c4da48-3e8c-432f-b90f-8f77f87b44dc",
   "metadata": {},
   "source": [
    "Удалил столбец salary, так как по нему скорее всего возможен лик, так как почти 90 процентов значений совпадают в нем и нашем таргете, машина просто бы завышала точность, не выкинув бы мы этот столбец. "
   ]
  },
  {
   "cell_type": "markdown",
   "id": "f63cb01a",
   "metadata": {
    "id": "f63cb01a"
   },
   "source": [
    "## Задание 2 (0.5 балла) Линейная модель"
   ]
  },
  {
   "cell_type": "markdown",
   "id": "647a5cad",
   "metadata": {
    "id": "647a5cad"
   },
   "source": [
    "\n",
    "*   Закодируйте категориальные  признаки с помощью OneHotEncoder\n",
    "*   Обучите модель линейной регрессии\n",
    "*   Оцените  качество через MAPE и RMSE\n"
   ]
  },
  {
   "cell_type": "code",
   "execution_count": 61,
   "id": "DcfWqlvYk0ru",
   "metadata": {
    "id": "DcfWqlvYk0ru"
   },
   "outputs": [
    {
     "name": "stdout",
     "output_type": "stream",
     "text": [
      "MAPE (Test): 37.14%\n",
      "RMSE (Test): 51557.01\n"
     ]
    }
   ],
   "source": [
    "from sklearn.compose import ColumnTransformer\n",
    "from sklearn.pipeline import Pipeline\n",
    "from sklearn.preprocessing import OneHotEncoder, StandardScaler\n",
    "from sklearn.linear_model import LinearRegression\n",
    "from sklearn.metrics import mean_absolute_percentage_error, mean_squared_error\n",
    "import numpy as np\n",
    "from sklearn.model_selection import train_test_split, GridSearchCV\n",
    "\n",
    "\n",
    "categorical_features = X_train.select_dtypes(include=['object']).columns\n",
    "preprocessor = ColumnTransformer(\n",
    "    transformers=[\n",
    "        ('categorical', OneHotEncoder(handle_unknown='ignore'), categorical_features)],\n",
    "    remainder='passthrough')\n",
    "\n",
    "pipeline = Pipeline(steps=[\n",
    "    ('preprocessor', preprocessor),\n",
    "    ('scaler', StandardScaler(with_mean=False)),\n",
    "    ('model', LinearRegression())\n",
    "])\n",
    "pipeline.fit(X_train, y_train)\n",
    "y_val_pred = pipeline.predict(X_val)\n",
    "y_test_pred = pipeline.predict(X_test)\n",
    "mape_test = mean_absolute_percentage_error(y_test, y_test_pred)\n",
    "rmse_test = np.sqrt(mean_squared_error(y_test, y_test_pred))\n",
    "print(f'MAPE (Test): {mape_test * 100:.2f}%')\n",
    "print(f'RMSE (Test): {rmse_test:.2f}')"
   ]
  },
  {
   "cell_type": "markdown",
   "id": "66bbf758-9d36-4aea-86fa-ddea60da6159",
   "metadata": {},
   "source": [
    "В целом, предсказание ошибается в ту или иную сторону на 37 процентов (а до стандартизации было 50 %). Но другого и не ждем от простой линейной модели. Зато в будущем будем знать, что по этим метрикам новые, более сложные модели, точно должны быть лучше (меньше в значении)."
   ]
  },
  {
   "cell_type": "markdown",
   "id": "3578292c",
   "metadata": {
    "id": "3578292c"
   },
   "source": [
    "## Задание 3 (0.5 балла) XGboost"
   ]
  },
  {
   "cell_type": "markdown",
   "id": "3RJuwwoty9w1",
   "metadata": {
    "id": "3RJuwwoty9w1"
   },
   "source": [
    "Начнем с библиотеки xgboost.\n",
    "\n",
    "Обучите модель `XGBRegressor` на тех же данных, что линейную модель, подобрав оптимальные гиперпараметры (`max_depth, learning_rate, n_estimators, gamma`, etc.) по валидационной выборке. Оцените качество итоговой модели (MAPE, RMSE), скорость обучения и скорость предсказания."
   ]
  },
  {
   "cell_type": "markdown",
   "id": "b613a2b1-7dff-49e2-8587-6c15960f469d",
   "metadata": {},
   "source": [
    "<span style=\"color: red; font-size: 25px;\">Я не буду использовать стандартный перебор фором по всем парамерам, а воспользуюсь благами цивилизации и возьму \"GridSearchCV\". Так быстрей и большее кол-во параметров сможем рассмотреть, а значит, повысится и точность.</span>"
   ]
  },
  {
   "cell_type": "code",
   "execution_count": 60,
   "id": "qafqCyE6zGpE",
   "metadata": {
    "id": "qafqCyE6zGpE",
    "scrolled": true
   },
   "outputs": [
    {
     "data": {
      "text/markdown": [
       "### Best Model Parameters\n",
       "- **Colsample Bytree**: 0.8\n",
       "- **Gamma**: 0\n",
       "- **Learning Rate**: 0.1\n",
       "- **Max Depth**: 5\n",
       "- **N Estimators**: 100\n",
       "- **Subsample**: 0.8\n"
      ],
      "text/plain": [
       "<IPython.core.display.Markdown object>"
      ]
     },
     "metadata": {},
     "output_type": "display_data"
    },
    {
     "name": "stdout",
     "output_type": "stream",
     "text": [
      "training_time - 21.25 \n",
      "prediction_time_val - 0.002855062484741211 \n",
      "prediction_time_test - 0.0024220943450927734 \n",
      "mape_test - 34.38% \n",
      "rmse_test - 50408.72\n"
     ]
    }
   ],
   "source": [
    "import time\n",
    "from xgboost import XGBRegressor\n",
    "from IPython.display import Markdown, display\n",
    "\n",
    "params = {\n",
    "    'model__max_depth': [3, 5, 7],\n",
    "    'model__learning_rate': [0.01, 0.1, 0.2],\n",
    "    'model__n_estimators': [100, 200, 300],\n",
    "    'model__gamma': [0, 0.1, 0.3],\n",
    "    'model__colsample_bytree': [0.7, 0.8, 1.0],\n",
    "    'model__subsample': [0.7, 0.8, 1.0]\n",
    "}\n",
    "pipeline = Pipeline(steps=[\n",
    "    ('preprocessor', preprocessor),\n",
    "    ('scaler', StandardScaler(with_mean=False)),\n",
    "    ('model', XGBRegressor())\n",
    "])\n",
    "grid_search = GridSearchCV(pipeline, params, cv=3, scoring='neg_mean_squared_error', n_jobs=-1)\n",
    "start_time = time.time()\n",
    "grid_search.fit(X_train, y_train)\n",
    "training_time = time.time() - start_time\n",
    "\n",
    "start_time = time.time()\n",
    "y_test_pred = best_model.predict(X_test)\n",
    "prediction_time_test = time.time() - start_time\n",
    "\n",
    "mape_test = mean_absolute_percentage_error(y_test, y_test_pred)\n",
    "rmse_test = np.sqrt(mean_squared_error(y_test, y_test_pred))\n",
    "def print_params(params):\n",
    "    md = \"### Best Model Parameters\\n\"\n",
    "    for key, value in params.items():\n",
    "        md += f\"- **{key.split('__')[-1].replace('_', ' ').title()}**: {value}\\n\"\n",
    "    display(Markdown(md))\n",
    "\n",
    "print_params(best_params)\n",
    "print(\n",
    "    f'training_time - {training_time:.2f}',\n",
    "    f'\\nprediction_time_test - {prediction_time_test}',\n",
    "    f'\\nmape_test - {mape_test * 100:.2f}%',\n",
    "    f'\\nrmse_test - {rmse_test:.2f}'\n",
    ")"
   ]
  },
  {
   "cell_type": "markdown",
   "id": "c3e62a3d-4843-4b40-aa64-49a1ed9c2c2b",
   "metadata": {},
   "source": [
    "Как мы видим, времени на обучение заняло больше, но и ошибка уменьшилась, а значит, все не зря."
   ]
  },
  {
   "cell_type": "markdown",
   "id": "RmWp9wxu318i",
   "metadata": {
    "id": "RmWp9wxu318i"
   },
   "source": [
    "## Задание 4 (1 балл) CatBoost"
   ]
  },
  {
   "cell_type": "markdown",
   "id": "bDWqieZk3-rv",
   "metadata": {
    "id": "bDWqieZk3-rv"
   },
   "source": [
    "Теперь библиотека CatBoost.\n",
    "\n",
    "Обучите модель `CatBoostRegressor`, подобрав оптимальные гиперпараметры (`depth, learning_rate, iterations`, etc.) по валидационной выборке. Оцените качество итоговой модели (MAPE, RMSE), скорость обучения и скорость предсказания."
   ]
  },
  {
   "cell_type": "code",
   "execution_count": 63,
   "id": "mbhrOOPJ4X9C",
   "metadata": {
    "id": "mbhrOOPJ4X9C",
    "scrolled": true
   },
   "outputs": [
    {
     "data": {
      "text/markdown": [
       "### Best Model Parameters\n",
       "- **Depth**: 8\n",
       "- **Iterations**: 200\n",
       "- **L2 Leaf Reg**: 5\n",
       "- **Learning Rate**: 0.1\n",
       "- **Subsample**: 1.0\n"
      ],
      "text/plain": [
       "<IPython.core.display.Markdown object>"
      ]
     },
     "metadata": {},
     "output_type": "display_data"
    },
    {
     "name": "stdout",
     "output_type": "stream",
     "text": [
      "training_time - 95.91 \n",
      "prediction_time_test - 0.003941059112548828 \n",
      "mape_test - 34.28% \n",
      "rmse_test - 49634.26\n"
     ]
    }
   ],
   "source": [
    "from catboost import CatBoostRegressor, Pool\n",
    "\n",
    "params = {\n",
    "    'model__depth': [4, 6, 8, 10],\n",
    "    'model__learning_rate': [0.01, 0.1, 0.2],\n",
    "    'model__iterations': [200, 500, 1000],\n",
    "    'model__l2_leaf_reg': [1, 3, 5],\n",
    "    'model__subsample': [0.8, 1.0]\n",
    "}\n",
    "pipeline = Pipeline(steps=[\n",
    "    ('preprocessor', preprocessor),\n",
    "    ('scaler', StandardScaler(with_mean=False)),\n",
    "    ('model', CatBoostRegressor(verbose=0))\n",
    "])\n",
    "grid_search = GridSearchCV(pipeline, params, cv=3, scoring='neg_mean_squared_error', n_jobs=-1)\n",
    "start_time = time.time()\n",
    "grid_search.fit(X_train, y_train)\n",
    "training_time = time.time() - start_time\n",
    "\n",
    "start_time = time.time()\n",
    "y_test_pred = best_model.predict(X_test)\n",
    "prediction_time_test = time.time() - start_time\n",
    "\n",
    "mape_test = mean_absolute_percentage_error(y_test, y_test_pred)\n",
    "rmse_test = np.sqrt(mean_squared_error(y_test, y_test_pred))\n",
    "\n",
    "def print_params(params):\n",
    "    md = \"### Best Model Parameters\\n\"\n",
    "    for key, value in params.items():\n",
    "        md += f\"- **{key.split('__')[-1].replace('_', ' ').title()}**: {value}\\n\"\n",
    "    display(Markdown(md))\n",
    "\n",
    "best_params = grid_search.best_params_\n",
    "print_params(best_params)\n",
    "\n",
    "print(\n",
    "    f'training_time - {training_time:.2f}',\n",
    "    f'\\nprediction_time_test - {prediction_time_test:}',\n",
    "    f'\\nmape_test - {mape_test * 100:.2f}%',\n",
    "    f'\\nrmse_test - {rmse_test:.2f}'\n",
    ")"
   ]
  },
  {
   "cell_type": "markdown",
   "id": "877436f7-95e0-46f7-b8ef-f9e34520154c",
   "metadata": {},
   "source": [
    "Еще лучше! Хоть и в 5 раз дольше. "
   ]
  },
  {
   "cell_type": "markdown",
   "id": "ruUNeGOk4lho",
   "metadata": {
    "id": "ruUNeGOk4lho"
   },
   "source": [
    "Для применения catboost моделей не обязательно сначала кодировать категориальные признаки, модель может кодировать их сама. Обучите catboost с подбором оптимальных гиперпараметров снова, используя pool для передачи данных в модель с указанием какие признаки категориальные, а какие нет с помощью параметра cat_features. Оцените качество и время. Стало ли лучше?"
   ]
  },
  {
   "cell_type": "code",
   "execution_count": 21,
   "id": "e58f77d6-14ae-48a6-ade1-ca4ae78d900e",
   "metadata": {},
   "outputs": [
    {
     "data": {
      "text/html": [
       "<div>\n",
       "<style scoped>\n",
       "    .dataframe tbody tr th:only-of-type {\n",
       "        vertical-align: middle;\n",
       "    }\n",
       "\n",
       "    .dataframe tbody tr th {\n",
       "        vertical-align: top;\n",
       "    }\n",
       "\n",
       "    .dataframe thead th {\n",
       "        text-align: right;\n",
       "    }\n",
       "</style>\n",
       "<table border=\"1\" class=\"dataframe\">\n",
       "  <thead>\n",
       "    <tr style=\"text-align: right;\">\n",
       "      <th></th>\n",
       "      <th>work_year</th>\n",
       "      <th>experience_level</th>\n",
       "      <th>employment_type</th>\n",
       "      <th>job_title</th>\n",
       "      <th>salary</th>\n",
       "      <th>salary_currency</th>\n",
       "      <th>salary_in_usd</th>\n",
       "      <th>employee_residence</th>\n",
       "      <th>remote_ratio</th>\n",
       "      <th>company_location</th>\n",
       "      <th>company_size</th>\n",
       "    </tr>\n",
       "  </thead>\n",
       "  <tbody>\n",
       "    <tr>\n",
       "      <th>0</th>\n",
       "      <td>2023</td>\n",
       "      <td>SE</td>\n",
       "      <td>FT</td>\n",
       "      <td>Principal Data Scientist</td>\n",
       "      <td>80000</td>\n",
       "      <td>EUR</td>\n",
       "      <td>85847</td>\n",
       "      <td>ES</td>\n",
       "      <td>100</td>\n",
       "      <td>ES</td>\n",
       "      <td>L</td>\n",
       "    </tr>\n",
       "    <tr>\n",
       "      <th>1</th>\n",
       "      <td>2023</td>\n",
       "      <td>MI</td>\n",
       "      <td>CT</td>\n",
       "      <td>ML Engineer</td>\n",
       "      <td>30000</td>\n",
       "      <td>USD</td>\n",
       "      <td>30000</td>\n",
       "      <td>US</td>\n",
       "      <td>100</td>\n",
       "      <td>US</td>\n",
       "      <td>S</td>\n",
       "    </tr>\n",
       "    <tr>\n",
       "      <th>2</th>\n",
       "      <td>2023</td>\n",
       "      <td>MI</td>\n",
       "      <td>CT</td>\n",
       "      <td>ML Engineer</td>\n",
       "      <td>25500</td>\n",
       "      <td>USD</td>\n",
       "      <td>25500</td>\n",
       "      <td>US</td>\n",
       "      <td>100</td>\n",
       "      <td>US</td>\n",
       "      <td>S</td>\n",
       "    </tr>\n",
       "    <tr>\n",
       "      <th>3</th>\n",
       "      <td>2023</td>\n",
       "      <td>SE</td>\n",
       "      <td>FT</td>\n",
       "      <td>Data Scientist</td>\n",
       "      <td>175000</td>\n",
       "      <td>USD</td>\n",
       "      <td>175000</td>\n",
       "      <td>CA</td>\n",
       "      <td>100</td>\n",
       "      <td>CA</td>\n",
       "      <td>M</td>\n",
       "    </tr>\n",
       "    <tr>\n",
       "      <th>4</th>\n",
       "      <td>2023</td>\n",
       "      <td>SE</td>\n",
       "      <td>FT</td>\n",
       "      <td>Data Scientist</td>\n",
       "      <td>120000</td>\n",
       "      <td>USD</td>\n",
       "      <td>120000</td>\n",
       "      <td>CA</td>\n",
       "      <td>100</td>\n",
       "      <td>CA</td>\n",
       "      <td>M</td>\n",
       "    </tr>\n",
       "  </tbody>\n",
       "</table>\n",
       "</div>"
      ],
      "text/plain": [
       "   work_year experience_level employment_type                 job_title  \\\n",
       "0       2023               SE              FT  Principal Data Scientist   \n",
       "1       2023               MI              CT               ML Engineer   \n",
       "2       2023               MI              CT               ML Engineer   \n",
       "3       2023               SE              FT            Data Scientist   \n",
       "4       2023               SE              FT            Data Scientist   \n",
       "\n",
       "   salary salary_currency  salary_in_usd employee_residence  remote_ratio  \\\n",
       "0   80000             EUR          85847                 ES           100   \n",
       "1   30000             USD          30000                 US           100   \n",
       "2   25500             USD          25500                 US           100   \n",
       "3  175000             USD         175000                 CA           100   \n",
       "4  120000             USD         120000                 CA           100   \n",
       "\n",
       "  company_location company_size  \n",
       "0               ES            L  \n",
       "1               US            S  \n",
       "2               US            S  \n",
       "3               CA            M  \n",
       "4               CA            M  "
      ]
     },
     "execution_count": 21,
     "metadata": {},
     "output_type": "execute_result"
    }
   ],
   "source": [
    "df.head()"
   ]
  },
  {
   "cell_type": "markdown",
   "id": "fd16644e-5f22-4f61-bcac-2e7f95e211be",
   "metadata": {
    "id": "5vQr1f9P6cQ5"
   },
   "source": [
    "Не получилось адаптировать GridSearchCV для этой задачи, а простым перебором слищком долго и тогда нечестное сравнение методов. Но попробую в дальнейшем добрать баллы с помощью бонусных заданий."
   ]
  },
  {
   "cell_type": "markdown",
   "id": "a881ad9d",
   "metadata": {
    "id": "a881ad9d"
   },
   "source": [
    "## Задание 5 (0.5 балла) LightGBM"
   ]
  },
  {
   "cell_type": "markdown",
   "id": "a35f87a6",
   "metadata": {
    "id": "a35f87a6"
   },
   "source": [
    "И наконец библиотека LightGBM - используйте `LGBMRegressor`, снова подберите гиперпараметры, оцените качество и скорость.\n"
   ]
  },
  {
   "cell_type": "code",
   "execution_count": 78,
   "id": "pMxY8Owp78Ow",
   "metadata": {
    "id": "pMxY8Owp78Ow"
   },
   "outputs": [
    {
     "name": "stderr",
     "output_type": "stream",
     "text": [
      "[LightGBM] [Fatal] Check failed: (bagging_fraction) <= (1.0) at /private/var/folders/nz/j6p8yfhx1mv_0grj5xl4650h0000gp/T/abs_7979061qoc/croot/lightgbm_1714113233928/work/src/io/config_auto.cpp, line 365 .\n",
      "\n",
      "[LightGBM] [Fatal] Check failed: (bagging_fraction) <= (1.0) at /private/var/folders/nz/j6p8yfhx1mv_0grj5xl4650h0000gp/T/abs_7979061qoc/croot/lightgbm_1714113233928/work/src/io/config_auto.cpp, line 365 .\n",
      "\n",
      "[LightGBM] [Fatal] Check failed: (bagging_fraction) <= (1.0) at /private/var/folders/nz/j6p8yfhx1mv_0grj5xl4650h0000gp/T/abs_7979061qoc/croot/lightgbm_1714113233928/work/src/io/config_auto.cpp, line 365 .\n",
      "\n",
      "[LightGBM] [Fatal] Check failed: (bagging_fraction) <= (1.0) at /private/var/folders/nz/j6p8yfhx1mv_0grj5xl4650h0000gp/T/abs_7979061qoc/croot/lightgbm_1714113233928/work/src/io/config_auto.cpp, line 365 .\n",
      "\n",
      "[LightGBM] [Fatal] Check failed: (bagging_fraction) <= (1.0) at /private/var/folders/nz/j6p8yfhx1mv_0grj5xl4650h0000gp/T/abs_7979061qoc/croot/lightgbm_1714113233928/work/src/io/config_auto.cpp, line 365 .\n",
      "\n",
      "[LightGBM] [Fatal] Check failed: (bagging_fraction) <= (1.0) at /private/var/folders/nz/j6p8yfhx1mv_0grj5xl4650h0000gp/T/abs_7979061qoc/croot/lightgbm_1714113233928/work/src/io/config_auto.cpp, line 365 .\n",
      "\n",
      "[LightGBM] [Fatal] Check failed: (bagging_fraction) <= (1.0) at /private/var/folders/nz/j6p8yfhx1mv_0grj5xl4650h0000gp/T/abs_7979061qoc/croot/lightgbm_1714113233928/work/src/io/config_auto.cpp, line 365 .\n",
      "\n",
      "[LightGBM] [Fatal] Check failed: (bagging_fraction) <= (1.0) at /private/var/folders/nz/j6p8yfhx1mv_0grj5xl4650h0000gp/T/abs_7979061qoc/croot/lightgbm_1714113233928/work/src/io/config_auto.cpp, line 365 .\n",
      "\n",
      "[LightGBM] [Fatal] Check failed: (bagging_fraction) <= (1.0) at /private/var/folders/nz/j6p8yfhx1mv_0grj5xl4650h0000gp/T/abs_7979061qoc/croot/lightgbm_1714113233928/work/src/io/config_auto.cpp, line 365 .\n",
      "\n",
      "[LightGBM] [Fatal] Check failed: (bagging_fraction) <= (1.0) at /private/var/folders/nz/j6p8yfhx1mv_0grj5xl4650h0000gp/T/abs_7979061qoc/croot/lightgbm_1714113233928/work/src/io/config_auto.cpp, line 365 .\n",
      "\n",
      "[LightGBM] [Fatal] Check failed: (bagging_fraction) <= (1.0) at /private/var/folders/nz/j6p8yfhx1mv_0grj5xl4650h0000gp/T/abs_7979061qoc/croot/lightgbm_1714113233928/work/src/io/config_auto.cpp, line 365 .\n",
      "\n",
      "[LightGBM] [Fatal] Check failed: (bagging_fraction) <= (1.0) at /private/var/folders/nz/j6p8yfhx1mv_0grj5xl4650h0000gp/T/abs_7979061qoc/croot/lightgbm_1714113233928/work/src/io/config_auto.cpp, line 365 .\n",
      "\n",
      "[LightGBM] [Fatal] Check failed: (bagging_fraction) <= (1.0) at /private/var/folders/nz/j6p8yfhx1mv_0grj5xl4650h0000gp/T/abs_7979061qoc/croot/lightgbm_1714113233928/work/src/io/config_auto.cpp, line 365 .\n",
      "\n",
      "[LightGBM] [Fatal] Check failed: (bagging_fraction) <= (1.0) at /private/var/folders/nz/j6p8yfhx1mv_0grj5xl4650h0000gp/T/abs_7979061qoc/croot/lightgbm_1714113233928/work/src/io/config_auto.cpp, line 365 .\n",
      "\n",
      "[LightGBM] [Fatal] Check failed: (bagging_fraction) <= (1.0) at /private/var/folders/nz/j6p8yfhx1mv_0grj5xl4650h0000gp/T/abs_7979061qoc/croot/lightgbm_1714113233928/work/src/io/config_auto.cpp, line 365 .\n",
      "\n",
      "[LightGBM] [Fatal] Check failed: (bagging_fraction) <= (1.0) at /private/var/folders/nz/j6p8yfhx1mv_0grj5xl4650h0000gp/T/abs_7979061qoc/croot/lightgbm_1714113233928/work/src/io/config_auto.cpp, line 365 .\n",
      "\n",
      "[LightGBM] [Fatal] Check failed: (bagging_fraction) <= (1.0) at /private/var/folders/nz/j6p8yfhx1mv_0grj5xl4650h0000gp/T/abs_7979061qoc/croot/lightgbm_1714113233928/work/src/io/config_auto.cpp, line 365 .\n",
      "\n",
      "[LightGBM] [Fatal] Check failed: (bagging_fraction) <= (1.0) at /private/var/folders/nz/j6p8yfhx1mv_0grj5xl4650h0000gp/T/abs_7979061qoc/croot/lightgbm_1714113233928/work/src/io/config_auto.cpp, line 365 .\n",
      "\n",
      "[LightGBM] [Fatal] Check failed: (bagging_fraction) <= (1.0) at /private/var/folders/nz/j6p8yfhx1mv_0grj5xl4650h0000gp/T/abs_7979061qoc/croot/lightgbm_1714113233928/work/src/io/config_auto.cpp, line 365 .\n",
      "\n",
      "[LightGBM] [Fatal] Check failed: (bagging_fraction) <= (1.0) at /private/var/folders/nz/j6p8yfhx1mv_0grj5xl4650h0000gp/T/abs_7979061qoc/croot/lightgbm_1714113233928/work/src/io/config_auto.cpp, line 365 .\n",
      "\n",
      "[LightGBM] [Fatal] Check failed: (bagging_fraction) <= (1.0) at /private/var/folders/nz/j6p8yfhx1mv_0grj5xl4650h0000gp/T/abs_7979061qoc/croot/lightgbm_1714113233928/work/src/io/config_auto.cpp, line 365 .\n",
      "\n",
      "[LightGBM] [Fatal] Check failed: (bagging_fraction) <= (1.0) at /private/var/folders/nz/j6p8yfhx1mv_0grj5xl4650h0000gp/T/abs_7979061qoc/croot/lightgbm_1714113233928/work/src/io/config_auto.cpp, line 365 .\n",
      "\n",
      "[LightGBM] [Fatal] Check failed: (bagging_fraction) <= (1.0) at /private/var/folders/nz/j6p8yfhx1mv_0grj5xl4650h0000gp/T/abs_7979061qoc/croot/lightgbm_1714113233928/work/src/io/config_auto.cpp, line 365 .\n",
      "\n",
      "[LightGBM] [Fatal] Check failed: (bagging_fraction) <= (1.0) at /private/var/folders/nz/j6p8yfhx1mv_0grj5xl4650h0000gp/T/abs_7979061qoc/croot/lightgbm_1714113233928/work/src/io/config_auto.cpp, line 365 .\n",
      "\n",
      "[LightGBM] [Fatal] Check failed: (bagging_fraction) <= (1.0) at /private/var/folders/nz/j6p8yfhx1mv_0grj5xl4650h0000gp/T/abs_7979061qoc/croot/lightgbm_1714113233928/work/src/io/config_auto.cpp, line 365 .\n",
      "\n",
      "[LightGBM] [Fatal] Check failed: (bagging_fraction) <= (1.0) at /private/var/folders/nz/j6p8yfhx1mv_0grj5xl4650h0000gp/T/abs_7979061qoc/croot/lightgbm_1714113233928/work/src/io/config_auto.cpp, line 365 .\n",
      "\n",
      "[LightGBM] [Fatal] Check failed: (bagging_fraction) <= (1.0) at /private/var/folders/nz/j6p8yfhx1mv_0grj5xl4650h0000gp/T/abs_7979061qoc/croot/lightgbm_1714113233928/work/src/io/config_auto.cpp, line 365 .\n",
      "\n",
      "[LightGBM] [Fatal] Check failed: (bagging_fraction) <= (1.0) at /private/var/folders/nz/j6p8yfhx1mv_0grj5xl4650h0000gp/T/abs_7979061qoc/croot/lightgbm_1714113233928/work/src/io/config_auto.cpp, line 365 .\n",
      "\n",
      "[LightGBM] [Fatal] Check failed: (bagging_fraction) <= (1.0) at /private/var/folders/nz/j6p8yfhx1mv_0grj5xl4650h0000gp/T/abs_7979061qoc/croot/lightgbm_1714113233928/work/src/io/config_auto.cpp, line 365 .\n",
      "\n",
      "[LightGBM] [Fatal] Check failed: (bagging_fraction) <= (1.0) at /private/var/folders/nz/j6p8yfhx1mv_0grj5xl4650h0000gp/T/abs_7979061qoc/croot/lightgbm_1714113233928/work/src/io/config_auto.cpp, line 365 .\n",
      "\n",
      "[LightGBM] [Fatal] Check failed: (bagging_fraction) <= (1.0) at /private/var/folders/nz/j6p8yfhx1mv_0grj5xl4650h0000gp/T/abs_7979061qoc/croot/lightgbm_1714113233928/work/src/io/config_auto.cpp, line 365 .\n",
      "\n",
      "[LightGBM] [Fatal] Check failed: (bagging_fraction) <= (1.0) at /private/var/folders/nz/j6p8yfhx1mv_0grj5xl4650h0000gp/T/abs_7979061qoc/croot/lightgbm_1714113233928/work/src/io/config_auto.cpp, line 365 .\n",
      "\n",
      "[LightGBM] [Fatal] Check failed: (bagging_fraction) <= (1.0) at /private/var/folders/nz/j6p8yfhx1mv_0grj5xl4650h0000gp/T/abs_7979061qoc/croot/lightgbm_1714113233928/work/src/io/config_auto.cpp, line 365 .\n",
      "\n",
      "[LightGBM] [Fatal] Check failed: (bagging_fraction) <= (1.0) at /private/var/folders/nz/j6p8yfhx1mv_0grj5xl4650h0000gp/T/abs_7979061qoc/croot/lightgbm_1714113233928/work/src/io/config_auto.cpp, line 365 .\n",
      "\n",
      "[LightGBM] [Fatal] Check failed: (bagging_fraction) <= (1.0) at /private/var/folders/nz/j6p8yfhx1mv_0grj5xl4650h0000gp/T/abs_7979061qoc/croot/lightgbm_1714113233928/work/src/io/config_auto.cpp, line 365 .\n",
      "\n",
      "[LightGBM] [Fatal] Check failed: (bagging_fraction) <= (1.0) at /private/var/folders/nz/j6p8yfhx1mv_0grj5xl4650h0000gp/T/abs_7979061qoc/croot/lightgbm_1714113233928/work/src/io/config_auto.cpp, line 365 .\n",
      "\n",
      "[LightGBM] [Fatal] Check failed: (bagging_fraction) <= (1.0) at /private/var/folders/nz/j6p8yfhx1mv_0grj5xl4650h0000gp/T/abs_7979061qoc/croot/lightgbm_1714113233928/work/src/io/config_auto.cpp, line 365 .\n",
      "\n",
      "[LightGBM] [Fatal] Check failed: (bagging_fraction) <= (1.0) at /private/var/folders/nz/j6p8yfhx1mv_0grj5xl4650h0000gp/T/abs_7979061qoc/croot/lightgbm_1714113233928/work/src/io/config_auto.cpp, line 365 .\n",
      "\n",
      "[LightGBM] [Fatal] Check failed: (bagging_fraction) <= (1.0) at /private/var/folders/nz/j6p8yfhx1mv_0grj5xl4650h0000gp/T/abs_7979061qoc/croot/lightgbm_1714113233928/work/src/io/config_auto.cpp, line 365 .\n",
      "\n",
      "[LightGBM] [Fatal] Check failed: (bagging_fraction) <= (1.0) at /private/var/folders/nz/j6p8yfhx1mv_0grj5xl4650h0000gp/T/abs_7979061qoc/croot/lightgbm_1714113233928/work/src/io/config_auto.cpp, line 365 .\n",
      "\n",
      "[LightGBM] [Fatal] Check failed: (bagging_fraction) <= (1.0) at /private/var/folders/nz/j6p8yfhx1mv_0grj5xl4650h0000gp/T/abs_7979061qoc/croot/lightgbm_1714113233928/work/src/io/config_auto.cpp, line 365 .\n",
      "\n",
      "[LightGBM] [Fatal] Check failed: (bagging_fraction) <= (1.0) at /private/var/folders/nz/j6p8yfhx1mv_0grj5xl4650h0000gp/T/abs_7979061qoc/croot/lightgbm_1714113233928/work/src/io/config_auto.cpp, line 365 .\n",
      "\n",
      "[LightGBM] [Fatal] Check failed: (bagging_fraction) <= (1.0) at /private/var/folders/nz/j6p8yfhx1mv_0grj5xl4650h0000gp/T/abs_7979061qoc/croot/lightgbm_1714113233928/work/src/io/config_auto.cpp, line 365 .\n",
      "\n",
      "[LightGBM] [Fatal] Check failed: (bagging_fraction) <= (1.0) at /private/var/folders/nz/j6p8yfhx1mv_0grj5xl4650h0000gp/T/abs_7979061qoc/croot/lightgbm_1714113233928/work/src/io/config_auto.cpp, line 365 .\n",
      "\n",
      "[LightGBM] [Fatal] Check failed: (bagging_fraction) <= (1.0) at /private/var/folders/nz/j6p8yfhx1mv_0grj5xl4650h0000gp/T/abs_7979061qoc/croot/lightgbm_1714113233928/work/src/io/config_auto.cpp, line 365 .\n",
      "\n",
      "[LightGBM] [Fatal] Check failed: (bagging_fraction) <= (1.0) at /private/var/folders/nz/j6p8yfhx1mv_0grj5xl4650h0000gp/T/abs_7979061qoc/croot/lightgbm_1714113233928/work/src/io/config_auto.cpp, line 365 .\n",
      "\n",
      "[LightGBM] [Fatal] Check failed: (bagging_fraction) <= (1.0) at /private/var/folders/nz/j6p8yfhx1mv_0grj5xl4650h0000gp/T/abs_7979061qoc/croot/lightgbm_1714113233928/work/src/io/config_auto.cpp, line 365 .\n",
      "\n",
      "[LightGBM] [Fatal] Check failed: (bagging_fraction) <= (1.0) at /private/var/folders/nz/j6p8yfhx1mv_0grj5xl4650h0000gp/T/abs_7979061qoc/croot/lightgbm_1714113233928/work/src/io/config_auto.cpp, line 365 .\n",
      "\n",
      "[LightGBM] [Fatal] Check failed: (bagging_fraction) <= (1.0) at /private/var/folders/nz/j6p8yfhx1mv_0grj5xl4650h0000gp/T/abs_7979061qoc/croot/lightgbm_1714113233928/work/src/io/config_auto.cpp, line 365 .\n",
      "\n",
      "[LightGBM] [Fatal] Check failed: (bagging_fraction) <= (1.0) at /private/var/folders/nz/j6p8yfhx1mv_0grj5xl4650h0000gp/T/abs_7979061qoc/croot/lightgbm_1714113233928/work/src/io/config_auto.cpp, line 365 .\n",
      "\n",
      "[LightGBM] [Fatal] Check failed: (bagging_fraction) <= (1.0) at /private/var/folders/nz/j6p8yfhx1mv_0grj5xl4650h0000gp/T/abs_7979061qoc/croot/lightgbm_1714113233928/work/src/io/config_auto.cpp, line 365 .\n",
      "\n",
      "[LightGBM] [Fatal] Check failed: (bagging_fraction) <= (1.0) at /private/var/folders/nz/j6p8yfhx1mv_0grj5xl4650h0000gp/T/abs_7979061qoc/croot/lightgbm_1714113233928/work/src/io/config_auto.cpp, line 365 .\n",
      "\n",
      "[LightGBM] [Fatal] Check failed: (bagging_fraction) <= (1.0) at /private/var/folders/nz/j6p8yfhx1mv_0grj5xl4650h0000gp/T/abs_7979061qoc/croot/lightgbm_1714113233928/work/src/io/config_auto.cpp, line 365 .\n",
      "\n",
      "[LightGBM] [Fatal] Check failed: (bagging_fraction) <= (1.0) at /private/var/folders/nz/j6p8yfhx1mv_0grj5xl4650h0000gp/T/abs_7979061qoc/croot/lightgbm_1714113233928/work/src/io/config_auto.cpp, line 365 .\n",
      "\n",
      "[LightGBM] [Fatal] Check failed: (bagging_fraction) <= (1.0) at /private/var/folders/nz/j6p8yfhx1mv_0grj5xl4650h0000gp/T/abs_7979061qoc/croot/lightgbm_1714113233928/work/src/io/config_auto.cpp, line 365 .\n",
      "\n",
      "[LightGBM] [Fatal] Check failed: (bagging_fraction) <= (1.0) at /private/var/folders/nz/j6p8yfhx1mv_0grj5xl4650h0000gp/T/abs_7979061qoc/croot/lightgbm_1714113233928/work/src/io/config_auto.cpp, line 365 .\n",
      "\n",
      "[LightGBM] [Fatal] Check failed: (bagging_fraction) <= (1.0) at /private/var/folders/nz/j6p8yfhx1mv_0grj5xl4650h0000gp/T/abs_7979061qoc/croot/lightgbm_1714113233928/work/src/io/config_auto.cpp, line 365 .\n",
      "\n",
      "[LightGBM] [Fatal] Check failed: (bagging_fraction) <= (1.0) at /private/var/folders/nz/j6p8yfhx1mv_0grj5xl4650h0000gp/T/abs_7979061qoc/croot/lightgbm_1714113233928/work/src/io/config_auto.cpp, line 365 .\n",
      "\n",
      "[LightGBM] [Fatal] Check failed: (bagging_fraction) <= (1.0) at /private/var/folders/nz/j6p8yfhx1mv_0grj5xl4650h0000gp/T/abs_7979061qoc/croot/lightgbm_1714113233928/work/src/io/config_auto.cpp, line 365 .\n",
      "\n",
      "[LightGBM] [Fatal] Check failed: (bagging_fraction) <= (1.0) at /private/var/folders/nz/j6p8yfhx1mv_0grj5xl4650h0000gp/T/abs_7979061qoc/croot/lightgbm_1714113233928/work/src/io/config_auto.cpp, line 365 .\n",
      "\n",
      "[LightGBM] [Fatal] Check failed: (bagging_fraction) <= (1.0) at /private/var/folders/nz/j6p8yfhx1mv_0grj5xl4650h0000gp/T/abs_7979061qoc/croot/lightgbm_1714113233928/work/src/io/config_auto.cpp, line 365 .\n",
      "\n",
      "[LightGBM] [Fatal] Check failed: (bagging_fraction) <= (1.0) at /private/var/folders/nz/j6p8yfhx1mv_0grj5xl4650h0000gp/T/abs_7979061qoc/croot/lightgbm_1714113233928/work/src/io/config_auto.cpp, line 365 .\n",
      "\n",
      "[LightGBM] [Fatal] Check failed: (bagging_fraction) <= (1.0) at /private/var/folders/nz/j6p8yfhx1mv_0grj5xl4650h0000gp/T/abs_7979061qoc/croot/lightgbm_1714113233928/work/src/io/config_auto.cpp, line 365 .\n",
      "\n",
      "[LightGBM] [Fatal] Check failed: (bagging_fraction) <= (1.0) at /private/var/folders/nz/j6p8yfhx1mv_0grj5xl4650h0000gp/T/abs_7979061qoc/croot/lightgbm_1714113233928/work/src/io/config_auto.cpp, line 365 .\n",
      "\n",
      "[LightGBM] [Fatal] Check failed: (bagging_fraction) <= (1.0) at /private/var/folders/nz/j6p8yfhx1mv_0grj5xl4650h0000gp/T/abs_7979061qoc/croot/lightgbm_1714113233928/work/src/io/config_auto.cpp, line 365 .\n",
      "\n",
      "[LightGBM] [Fatal] Check failed: (bagging_fraction) <= (1.0) at /private/var/folders/nz/j6p8yfhx1mv_0grj5xl4650h0000gp/T/abs_7979061qoc/croot/lightgbm_1714113233928/work/src/io/config_auto.cpp, line 365 .\n",
      "\n",
      "[LightGBM] [Fatal] Check failed: (bagging_fraction) <= (1.0) at /private/var/folders/nz/j6p8yfhx1mv_0grj5xl4650h0000gp/T/abs_7979061qoc/croot/lightgbm_1714113233928/work/src/io/config_auto.cpp, line 365 .\n",
      "\n",
      "[LightGBM] [Fatal] Check failed: (bagging_fraction) <= (1.0) at /private/var/folders/nz/j6p8yfhx1mv_0grj5xl4650h0000gp/T/abs_7979061qoc/croot/lightgbm_1714113233928/work/src/io/config_auto.cpp, line 365 .\n",
      "\n",
      "[LightGBM] [Fatal] Check failed: (bagging_fraction) <= (1.0) at /private/var/folders/nz/j6p8yfhx1mv_0grj5xl4650h0000gp/T/abs_7979061qoc/croot/lightgbm_1714113233928/work/src/io/config_auto.cpp, line 365 .\n",
      "\n",
      "[LightGBM] [Fatal] Check failed: (bagging_fraction) <= (1.0) at /private/var/folders/nz/j6p8yfhx1mv_0grj5xl4650h0000gp/T/abs_7979061qoc/croot/lightgbm_1714113233928/work/src/io/config_auto.cpp, line 365 .\n",
      "\n",
      "[LightGBM] [Fatal] Check failed: (bagging_fraction) <= (1.0) at /private/var/folders/nz/j6p8yfhx1mv_0grj5xl4650h0000gp/T/abs_7979061qoc/croot/lightgbm_1714113233928/work/src/io/config_auto.cpp, line 365 .\n",
      "\n",
      "[LightGBM] [Fatal] Check failed: (bagging_fraction) <= (1.0) at /private/var/folders/nz/j6p8yfhx1mv_0grj5xl4650h0000gp/T/abs_7979061qoc/croot/lightgbm_1714113233928/work/src/io/config_auto.cpp, line 365 .\n",
      "\n",
      "[LightGBM] [Fatal] Check failed: (bagging_fraction) <= (1.0) at /private/var/folders/nz/j6p8yfhx1mv_0grj5xl4650h0000gp/T/abs_7979061qoc/croot/lightgbm_1714113233928/work/src/io/config_auto.cpp, line 365 .\n",
      "\n",
      "[LightGBM] [Fatal] Check failed: (bagging_fraction) <= (1.0) at /private/var/folders/nz/j6p8yfhx1mv_0grj5xl4650h0000gp/T/abs_7979061qoc/croot/lightgbm_1714113233928/work/src/io/config_auto.cpp, line 365 .\n",
      "\n",
      "[LightGBM] [Fatal] Check failed: (bagging_fraction) <= (1.0) at /private/var/folders/nz/j6p8yfhx1mv_0grj5xl4650h0000gp/T/abs_7979061qoc/croot/lightgbm_1714113233928/work/src/io/config_auto.cpp, line 365 .\n",
      "\n",
      "[LightGBM] [Fatal] Check failed: (bagging_fraction) <= (1.0) at /private/var/folders/nz/j6p8yfhx1mv_0grj5xl4650h0000gp/T/abs_7979061qoc/croot/lightgbm_1714113233928/work/src/io/config_auto.cpp, line 365 .\n",
      "\n",
      "[LightGBM] [Fatal] Check failed: (bagging_fraction) <= (1.0) at /private/var/folders/nz/j6p8yfhx1mv_0grj5xl4650h0000gp/T/abs_7979061qoc/croot/lightgbm_1714113233928/work/src/io/config_auto.cpp, line 365 .\n",
      "\n",
      "[LightGBM] [Fatal] Check failed: (bagging_fraction) <= (1.0) at /private/var/folders/nz/j6p8yfhx1mv_0grj5xl4650h0000gp/T/abs_7979061qoc/croot/lightgbm_1714113233928/work/src/io/config_auto.cpp, line 365 .\n",
      "\n",
      "[LightGBM] [Fatal] Check failed: (bagging_fraction) <= (1.0) at /private/var/folders/nz/j6p8yfhx1mv_0grj5xl4650h0000gp/T/abs_7979061qoc/croot/lightgbm_1714113233928/work/src/io/config_auto.cpp, line 365 .\n",
      "\n",
      "[LightGBM] [Fatal] Check failed: (bagging_fraction) <= (1.0) at /private/var/folders/nz/j6p8yfhx1mv_0grj5xl4650h0000gp/T/abs_7979061qoc/croot/lightgbm_1714113233928/work/src/io/config_auto.cpp, line 365 .\n",
      "\n",
      "[LightGBM] [Fatal] Check failed: (bagging_fraction) <= (1.0) at /private/var/folders/nz/j6p8yfhx1mv_0grj5xl4650h0000gp/T/abs_7979061qoc/croot/lightgbm_1714113233928/work/src/io/config_auto.cpp, line 365 .\n",
      "\n",
      "[LightGBM] [Fatal] Check failed: (bagging_fraction) <= (1.0) at /private/var/folders/nz/j6p8yfhx1mv_0grj5xl4650h0000gp/T/abs_7979061qoc/croot/lightgbm_1714113233928/work/src/io/config_auto.cpp, line 365 .\n",
      "\n",
      "[LightGBM] [Fatal] Check failed: (bagging_fraction) <= (1.0) at /private/var/folders/nz/j6p8yfhx1mv_0grj5xl4650h0000gp/T/abs_7979061qoc/croot/lightgbm_1714113233928/work/src/io/config_auto.cpp, line 365 .\n",
      "\n",
      "[LightGBM] [Fatal] Check failed: (bagging_fraction) <= (1.0) at /private/var/folders/nz/j6p8yfhx1mv_0grj5xl4650h0000gp/T/abs_7979061qoc/croot/lightgbm_1714113233928/work/src/io/config_auto.cpp, line 365 .\n",
      "\n",
      "[LightGBM] [Fatal] Check failed: (bagging_fraction) <= (1.0) at /private/var/folders/nz/j6p8yfhx1mv_0grj5xl4650h0000gp/T/abs_7979061qoc/croot/lightgbm_1714113233928/work/src/io/config_auto.cpp, line 365 .\n",
      "\n",
      "[LightGBM] [Fatal] Check failed: (bagging_fraction) <= (1.0) at /private/var/folders/nz/j6p8yfhx1mv_0grj5xl4650h0000gp/T/abs_7979061qoc/croot/lightgbm_1714113233928/work/src/io/config_auto.cpp, line 365 .\n",
      "\n",
      "[LightGBM] [Fatal] Check failed: (bagging_fraction) <= (1.0) at /private/var/folders/nz/j6p8yfhx1mv_0grj5xl4650h0000gp/T/abs_7979061qoc/croot/lightgbm_1714113233928/work/src/io/config_auto.cpp, line 365 .\n",
      "\n",
      "[LightGBM] [Fatal] Check failed: (bagging_fraction) <= (1.0) at /private/var/folders/nz/j6p8yfhx1mv_0grj5xl4650h0000gp/T/abs_7979061qoc/croot/lightgbm_1714113233928/work/src/io/config_auto.cpp, line 365 .\n",
      "\n",
      "[LightGBM] [Fatal] Check failed: (bagging_fraction) <= (1.0) at /private/var/folders/nz/j6p8yfhx1mv_0grj5xl4650h0000gp/T/abs_7979061qoc/croot/lightgbm_1714113233928/work/src/io/config_auto.cpp, line 365 .\n",
      "\n",
      "[LightGBM] [Fatal] Check failed: (bagging_fraction) <= (1.0) at /private/var/folders/nz/j6p8yfhx1mv_0grj5xl4650h0000gp/T/abs_7979061qoc/croot/lightgbm_1714113233928/work/src/io/config_auto.cpp, line 365 .\n",
      "\n",
      "[LightGBM] [Fatal] Check failed: (bagging_fraction) <= (1.0) at /private/var/folders/nz/j6p8yfhx1mv_0grj5xl4650h0000gp/T/abs_7979061qoc/croot/lightgbm_1714113233928/work/src/io/config_auto.cpp, line 365 .\n",
      "\n",
      "[LightGBM] [Fatal] Check failed: (bagging_fraction) <= (1.0) at /private/var/folders/nz/j6p8yfhx1mv_0grj5xl4650h0000gp/T/abs_7979061qoc/croot/lightgbm_1714113233928/work/src/io/config_auto.cpp, line 365 .\n",
      "\n",
      "[LightGBM] [Fatal] Check failed: (bagging_fraction) <= (1.0) at /private/var/folders/nz/j6p8yfhx1mv_0grj5xl4650h0000gp/T/abs_7979061qoc/croot/lightgbm_1714113233928/work/src/io/config_auto.cpp, line 365 .\n",
      "\n",
      "[LightGBM] [Fatal] Check failed: (bagging_fraction) <= (1.0) at /private/var/folders/nz/j6p8yfhx1mv_0grj5xl4650h0000gp/T/abs_7979061qoc/croot/lightgbm_1714113233928/work/src/io/config_auto.cpp, line 365 .\n",
      "\n",
      "[LightGBM] [Fatal] Check failed: (bagging_fraction) <= (1.0) at /private/var/folders/nz/j6p8yfhx1mv_0grj5xl4650h0000gp/T/abs_7979061qoc/croot/lightgbm_1714113233928/work/src/io/config_auto.cpp, line 365 .\n",
      "\n",
      "[LightGBM] [Fatal] Check failed: (bagging_fraction) <= (1.0) at /private/var/folders/nz/j6p8yfhx1mv_0grj5xl4650h0000gp/T/abs_7979061qoc/croot/lightgbm_1714113233928/work/src/io/config_auto.cpp, line 365 .\n",
      "\n",
      "[LightGBM] [Fatal] Check failed: (bagging_fraction) <= (1.0) at /private/var/folders/nz/j6p8yfhx1mv_0grj5xl4650h0000gp/T/abs_7979061qoc/croot/lightgbm_1714113233928/work/src/io/config_auto.cpp, line 365 .\n",
      "\n",
      "[LightGBM] [Fatal] Check failed: (bagging_fraction) <= (1.0) at /private/var/folders/nz/j6p8yfhx1mv_0grj5xl4650h0000gp/T/abs_7979061qoc/croot/lightgbm_1714113233928/work/src/io/config_auto.cpp, line 365 .\n",
      "\n",
      "[LightGBM] [Fatal] Check failed: (bagging_fraction) <= (1.0) at /private/var/folders/nz/j6p8yfhx1mv_0grj5xl4650h0000gp/T/abs_7979061qoc/croot/lightgbm_1714113233928/work/src/io/config_auto.cpp, line 365 .\n",
      "\n",
      "[LightGBM] [Fatal] Check failed: (bagging_fraction) <= (1.0) at /private/var/folders/nz/j6p8yfhx1mv_0grj5xl4650h0000gp/T/abs_7979061qoc/croot/lightgbm_1714113233928/work/src/io/config_auto.cpp, line 365 .\n",
      "\n",
      "[LightGBM] [Fatal] Check failed: (bagging_fraction) <= (1.0) at /private/var/folders/nz/j6p8yfhx1mv_0grj5xl4650h0000gp/T/abs_7979061qoc/croot/lightgbm_1714113233928/work/src/io/config_auto.cpp, line 365 .\n",
      "\n",
      "[LightGBM] [Fatal] Check failed: (bagging_fraction) <= (1.0) at /private/var/folders/nz/j6p8yfhx1mv_0grj5xl4650h0000gp/T/abs_7979061qoc/croot/lightgbm_1714113233928/work/src/io/config_auto.cpp, line 365 .\n",
      "\n",
      "[LightGBM] [Fatal] Check failed: (bagging_fraction) <= (1.0) at /private/var/folders/nz/j6p8yfhx1mv_0grj5xl4650h0000gp/T/abs_7979061qoc/croot/lightgbm_1714113233928/work/src/io/config_auto.cpp, line 365 .\n",
      "\n",
      "[LightGBM] [Fatal] Check failed: (bagging_fraction) <= (1.0) at /private/var/folders/nz/j6p8yfhx1mv_0grj5xl4650h0000gp/T/abs_7979061qoc/croot/lightgbm_1714113233928/work/src/io/config_auto.cpp, line 365 .\n",
      "\n",
      "[LightGBM] [Fatal] Check failed: (bagging_fraction) <= (1.0) at /private/var/folders/nz/j6p8yfhx1mv_0grj5xl4650h0000gp/T/abs_7979061qoc/croot/lightgbm_1714113233928/work/src/io/config_auto.cpp, line 365 .\n",
      "\n",
      "[LightGBM] [Fatal] Check failed: (bagging_fraction) <= (1.0) at /private/var/folders/nz/j6p8yfhx1mv_0grj5xl4650h0000gp/T/abs_7979061qoc/croot/lightgbm_1714113233928/work/src/io/config_auto.cpp, line 365 .\n",
      "\n",
      "[LightGBM] [Fatal] Check failed: (bagging_fraction) <= (1.0) at /private/var/folders/nz/j6p8yfhx1mv_0grj5xl4650h0000gp/T/abs_7979061qoc/croot/lightgbm_1714113233928/work/src/io/config_auto.cpp, line 365 .\n",
      "\n",
      "[LightGBM] [Fatal] Check failed: (bagging_fraction) <= (1.0) at /private/var/folders/nz/j6p8yfhx1mv_0grj5xl4650h0000gp/T/abs_7979061qoc/croot/lightgbm_1714113233928/work/src/io/config_auto.cpp, line 365 .\n",
      "\n",
      "[LightGBM] [Fatal] Check failed: (bagging_fraction) <= (1.0) at /private/var/folders/nz/j6p8yfhx1mv_0grj5xl4650h0000gp/T/abs_7979061qoc/croot/lightgbm_1714113233928/work/src/io/config_auto.cpp, line 365 .\n",
      "\n",
      "[LightGBM] [Fatal] Check failed: (bagging_fraction) <= (1.0) at /private/var/folders/nz/j6p8yfhx1mv_0grj5xl4650h0000gp/T/abs_7979061qoc/croot/lightgbm_1714113233928/work/src/io/config_auto.cpp, line 365 .\n",
      "\n",
      "[LightGBM] [Fatal] Check failed: (bagging_fraction) <= (1.0) at /private/var/folders/nz/j6p8yfhx1mv_0grj5xl4650h0000gp/T/abs_7979061qoc/croot/lightgbm_1714113233928/work/src/io/config_auto.cpp, line 365 .\n",
      "\n",
      "[LightGBM] [Fatal] Check failed: (bagging_fraction) <= (1.0) at /private/var/folders/nz/j6p8yfhx1mv_0grj5xl4650h0000gp/T/abs_7979061qoc/croot/lightgbm_1714113233928/work/src/io/config_auto.cpp, line 365 .\n",
      "\n",
      "[LightGBM] [Fatal] Check failed: (bagging_fraction) <= (1.0) at /private/var/folders/nz/j6p8yfhx1mv_0grj5xl4650h0000gp/T/abs_7979061qoc/croot/lightgbm_1714113233928/work/src/io/config_auto.cpp, line 365 .\n",
      "\n",
      "[LightGBM] [Fatal] Check failed: (bagging_fraction) <= (1.0) at /private/var/folders/nz/j6p8yfhx1mv_0grj5xl4650h0000gp/T/abs_7979061qoc/croot/lightgbm_1714113233928/work/src/io/config_auto.cpp, line 365 .\n",
      "\n",
      "[LightGBM] [Fatal] Check failed: (bagging_fraction) <= (1.0) at /private/var/folders/nz/j6p8yfhx1mv_0grj5xl4650h0000gp/T/abs_7979061qoc/croot/lightgbm_1714113233928/work/src/io/config_auto.cpp, line 365 .\n",
      "\n",
      "[LightGBM] [Fatal] Check failed: (bagging_fraction) <= (1.0) at /private/var/folders/nz/j6p8yfhx1mv_0grj5xl4650h0000gp/T/abs_7979061qoc/croot/lightgbm_1714113233928/work/src/io/config_auto.cpp, line 365 .\n",
      "\n",
      "[LightGBM] [Fatal] Check failed: (bagging_fraction) <= (1.0) at /private/var/folders/nz/j6p8yfhx1mv_0grj5xl4650h0000gp/T/abs_7979061qoc/croot/lightgbm_1714113233928/work/src/io/config_auto.cpp, line 365 .\n",
      "\n",
      "[LightGBM] [Fatal] Check failed: (bagging_fraction) <= (1.0) at /private/var/folders/nz/j6p8yfhx1mv_0grj5xl4650h0000gp/T/abs_7979061qoc/croot/lightgbm_1714113233928/work/src/io/config_auto.cpp, line 365 .\n",
      "\n",
      "[LightGBM] [Fatal] Check failed: (bagging_fraction) <= (1.0) at /private/var/folders/nz/j6p8yfhx1mv_0grj5xl4650h0000gp/T/abs_7979061qoc/croot/lightgbm_1714113233928/work/src/io/config_auto.cpp, line 365 .\n",
      "\n",
      "[LightGBM] [Fatal] Check failed: (bagging_fraction) <= (1.0) at /private/var/folders/nz/j6p8yfhx1mv_0grj5xl4650h0000gp/T/abs_7979061qoc/croot/lightgbm_1714113233928/work/src/io/config_auto.cpp, line 365 .\n",
      "\n",
      "/opt/anaconda3/lib/python3.11/site-packages/sklearn/model_selection/_validation.py:378: FitFailedWarning: \n",
      "120 fits failed out of a total of 150.\n",
      "The score on these train-test partitions for these parameters will be set to nan.\n",
      "If these failures are not expected, you can try to debug them by setting error_score='raise'.\n",
      "\n",
      "Below are more details about the failures:\n",
      "--------------------------------------------------------------------------------\n",
      "120 fits failed with the following error:\n",
      "Traceback (most recent call last):\n",
      "  File \"/opt/anaconda3/lib/python3.11/site-packages/sklearn/model_selection/_validation.py\", line 686, in _fit_and_score\n",
      "    estimator.fit(X_train, y_train, **fit_params)\n",
      "  File \"/opt/anaconda3/lib/python3.11/site-packages/sklearn/pipeline.py\", line 405, in fit\n",
      "    self._final_estimator.fit(Xt, y, **fit_params_last_step)\n",
      "  File \"/opt/anaconda3/lib/python3.11/site-packages/lightgbm/sklearn.py\", line 1092, in fit\n",
      "    super().fit(\n",
      "  File \"/opt/anaconda3/lib/python3.11/site-packages/lightgbm/sklearn.py\", line 885, in fit\n",
      "    self._Booster = train(\n",
      "                    ^^^^^^\n",
      "  File \"/opt/anaconda3/lib/python3.11/site-packages/lightgbm/engine.py\", line 255, in train\n",
      "    booster = Booster(params=params, train_set=train_set)\n",
      "              ^^^^^^^^^^^^^^^^^^^^^^^^^^^^^^^^^^^^^^^^^^^\n",
      "  File \"/opt/anaconda3/lib/python3.11/site-packages/lightgbm/basic.py\", line 3433, in __init__\n",
      "    train_set.construct()\n",
      "  File \"/opt/anaconda3/lib/python3.11/site-packages/lightgbm/basic.py\", line 2462, in construct\n",
      "    self._lazy_init(data=self.data, label=self.label, reference=None,\n",
      "  File \"/opt/anaconda3/lib/python3.11/site-packages/lightgbm/basic.py\", line 2075, in _lazy_init\n",
      "    self.__init_from_csr(data, params_str, ref_dataset)\n",
      "  File \"/opt/anaconda3/lib/python3.11/site-packages/lightgbm/basic.py\", line 2298, in __init_from_csr\n",
      "    _safe_call(_LIB.LGBM_DatasetCreateFromCSR(\n",
      "  File \"/opt/anaconda3/lib/python3.11/site-packages/lightgbm/basic.py\", line 263, in _safe_call\n",
      "    raise LightGBMError(_LIB.LGBM_GetLastError().decode('utf-8'))\n",
      "lightgbm.basic.LightGBMError: Check failed: (bagging_fraction) <= (1.0) at /private/var/folders/nz/j6p8yfhx1mv_0grj5xl4650h0000gp/T/abs_7979061qoc/croot/lightgbm_1714113233928/work/src/io/config_auto.cpp, line 365 .\n",
      "\n",
      "\n",
      "  warnings.warn(some_fits_failed_message, FitFailedWarning)\n",
      "/opt/anaconda3/lib/python3.11/site-packages/sklearn/model_selection/_search.py:952: UserWarning: One or more of the test scores are non-finite: [            nan -2.54871969e+09             nan -2.35827232e+09\n",
      "             nan             nan -2.39576281e+09             nan\n",
      "             nan             nan             nan -2.55571462e+09\n",
      "             nan -2.55039260e+09             nan             nan\n",
      "             nan             nan -2.34434769e+09             nan\n",
      "             nan             nan             nan             nan\n",
      "             nan -2.44950956e+09             nan             nan\n",
      "             nan             nan             nan -2.45124926e+09\n",
      "             nan -2.33944863e+09             nan             nan\n",
      "             nan             nan             nan             nan\n",
      "             nan             nan             nan             nan\n",
      "             nan             nan             nan             nan\n",
      " -2.53962900e+09             nan]\n",
      "  warnings.warn(\n"
     ]
    },
    {
     "data": {
      "text/markdown": [
       "### Best Model Parameters\n",
       "- **Learning Rate**: 0.010104075399063163\n",
       "- **Min Child Weight**: 5\n",
       "- **N Estimators**: 844\n",
       "- **Num Leaves**: 22\n",
       "- **Subsample**: 0.8069521305311907\n"
      ],
      "text/plain": [
       "<IPython.core.display.Markdown object>"
      ]
     },
     "metadata": {},
     "output_type": "display_data"
    },
    {
     "name": "stdout",
     "output_type": "stream",
     "text": [
      "training_time - 149.28 seconds \n",
      "prediction_time_test - 0.01 seconds \n",
      "mape_test - 32.04% \n",
      "rmse_test - 49747.86\n"
     ]
    }
   ],
   "source": [
    "from lightgbm import LGBMRegressor\n",
    "import scipy.stats as st\n",
    "from sklearn.model_selection import RandomizedSearchCV\n",
    "\n",
    "params = {\n",
    "    'model__num_leaves': st.randint(20, 50),\n",
    "    'model__learning_rate': st.uniform(0.01, 0.2),\n",
    "    'model__n_estimators': st.randint(100, 1000),\n",
    "    'model__min_child_weight': st.randint(1, 6),\n",
    "    'model__subsample': st.uniform(0.8, 1.0)\n",
    "}\n",
    "\n",
    "pipeline = Pipeline(steps=[\n",
    "    ('preprocessor', preprocessor),\n",
    "    ('scaler', StandardScaler(with_mean=False)),\n",
    "    ('model', LGBMRegressor(verbosity=-1))\n",
    "])\n",
    "\n",
    "random_search = RandomizedSearchCV(pipeline, params, n_iter=50, cv=3, scoring='neg_mean_squared_error', n_jobs=-1, random_state=42)\n",
    "start_time = time.time()\n",
    "random_search.fit(X_train, y_train)\n",
    "training_time = time.time() - start_time\n",
    "\n",
    "best_model = random_search.best_estimator_\n",
    "\n",
    "start_time = time.time()\n",
    "y_test_pred = best_model.predict(X_test)\n",
    "prediction_time_test = time.time() - start_time\n",
    "\n",
    "mape_test = mean_absolute_percentage_error(y_test, y_test_pred)\n",
    "rmse_test = np.sqrt(mean_squared_error(y_test, y_test_pred))\n",
    "\n",
    "def print_params(params):\n",
    "    md = \"### Best Model Parameters\\n\"\n",
    "    for key, value in params.items():\n",
    "        md += f\"- **{key.split('__')[-1].replace('_', ' ').title()}**: {value}\\n\"\n",
    "    display(Markdown(md))\n",
    "\n",
    "best_params = random_search.best_params_\n",
    "print_params(best_params)\n",
    "\n",
    "print(\n",
    "    f'training_time - {training_time:.2f} seconds',\n",
    "    f'\\nprediction_time_test - {prediction_time_test:.2f} seconds',\n",
    "    f'\\nmape_test - {mape_test * 100:.2f}%',\n",
    "    f'\\nrmse_test - {rmse_test:.2f}'\n",
    ")"
   ]
  },
  {
   "cell_type": "markdown",
   "id": "7c56d873",
   "metadata": {
    "id": "7c56d873"
   },
   "source": [
    "## Задание 6 (2 балла) Сравнение и выводы"
   ]
  },
  {
   "cell_type": "markdown",
   "id": "3a2c1148",
   "metadata": {
    "id": "3a2c1148"
   },
   "source": [
    "Сравните модели бустинга и сделайте про них выводы, какая из моделей показала лучший/худший результат по качеству, скорости обучения и скорости предсказания? Как отличаются гиперпараметры для разных моделей?"
   ]
  },
  {
   "cell_type": "markdown",
   "id": "gzelUdAl-V9u",
   "metadata": {
    "id": "gzelUdAl-V9u"
   },
   "source": [
    "### Сравнение моделей:\n",
    "\n",
    "- **Линейная регрессия**:\n",
    "  - MAPE: 37.14%\n",
    "  - RMSE: 51557.01\n",
    "  - Время обучения: мгновенно\n",
    "\n",
    "- **XGBoost**:\n",
    "  - MAPE: 34.38%\n",
    "  - RMSE: 50408.72\n",
    "  - Время обучения: 21.25 секунд\n",
    "  - Время предсказания: 0.0024 секунд\n",
    "\n",
    "- **CatBoost**:\n",
    "  - MAPE: 34.28%\n",
    "  - RMSE: 49634.26\n",
    "  - Время обучения: 95.91 секунд\n",
    "  - Время предсказания: 0.0039 секунд\n",
    "\n",
    "- **LightGBM**:\n",
    "  - MAPE: 32.04%\n",
    "  - RMSE: 49747.86\n",
    "  - Время обучения: 149.28 секунд\n",
    "  - Время предсказания: 0.01 секунд\n",
    "\n",
    "### Выводы:\n",
    "- **Качество (MAPE, RMSE)**: LightGBM лучший, линейная регрессия худшая.\n",
    "- **Скорость обучения**: Линейная регрессия самая быстрая, XGBoost быстрее остальных бустинговых моделей.\n",
    "- **Скорость предсказания**: Линейная регрессия и XGBoost самые быстрые.\n",
    "\n",
    "Для быстрого обучения и предсказания лучше использовать линейную регрессию или XGBoost. Для лучшего качества предсказаний - LightGBM."
   ]
  },
  {
   "cell_type": "markdown",
   "id": "fokm4x1WmxQr",
   "metadata": {
    "id": "fokm4x1WmxQr"
   },
   "source": [
    "# Часть 2 Кластеризация (5 баллов)"
   ]
  },
  {
   "cell_type": "markdown",
   "id": "UZBpHMoNm1Sa",
   "metadata": {
    "id": "UZBpHMoNm1Sa"
   },
   "source": [
    "Будем работать с данными о том, каких исполнителей слушают пользователи музыкального сервиса.\n",
    "\n",
    "Каждая строка таблицы - информация об одном пользователе. Каждый столбец - это исполнитель (The Beatles, Radiohead, etc.)\n",
    "\n",
    "Для каждой пары (пользователь, исполнитель) в таблице стоит число - доля прослушивания этого исполнителя этим пользователем.\n"
   ]
  },
  {
   "cell_type": "code",
   "execution_count": 79,
   "id": "nGa-xYikoogL",
   "metadata": {
    "colab": {
     "base_uri": "https://localhost:8080/",
     "height": 290
    },
    "id": "nGa-xYikoogL",
    "outputId": "78cf46ec-1aae-4cb9-a457-5a7a47a16248"
   },
   "outputs": [
    {
     "data": {
      "text/html": [
       "<div>\n",
       "<style scoped>\n",
       "    .dataframe tbody tr th:only-of-type {\n",
       "        vertical-align: middle;\n",
       "    }\n",
       "\n",
       "    .dataframe tbody tr th {\n",
       "        vertical-align: top;\n",
       "    }\n",
       "\n",
       "    .dataframe thead th {\n",
       "        text-align: right;\n",
       "    }\n",
       "</style>\n",
       "<table border=\"1\" class=\"dataframe\">\n",
       "  <thead>\n",
       "    <tr style=\"text-align: right;\">\n",
       "      <th></th>\n",
       "      <th>user</th>\n",
       "      <th>the beatles</th>\n",
       "      <th>radiohead</th>\n",
       "      <th>deathcab for cutie</th>\n",
       "      <th>coldplay</th>\n",
       "      <th>modest mouse</th>\n",
       "      <th>sufjan stevens</th>\n",
       "      <th>dylan. bob</th>\n",
       "      <th>red hot clili peppers</th>\n",
       "      <th>pink fluid</th>\n",
       "      <th>...</th>\n",
       "      <th>municipal waste</th>\n",
       "      <th>townes van zandt</th>\n",
       "      <th>curtis mayfield</th>\n",
       "      <th>jewel</th>\n",
       "      <th>lamb</th>\n",
       "      <th>michal w. smith</th>\n",
       "      <th>群星</th>\n",
       "      <th>agalloch</th>\n",
       "      <th>meshuggah</th>\n",
       "      <th>yellowcard</th>\n",
       "    </tr>\n",
       "  </thead>\n",
       "  <tbody>\n",
       "    <tr>\n",
       "      <th>0</th>\n",
       "      <td>0</td>\n",
       "      <td>NaN</td>\n",
       "      <td>0.020417</td>\n",
       "      <td>NaN</td>\n",
       "      <td>NaN</td>\n",
       "      <td>NaN</td>\n",
       "      <td>NaN</td>\n",
       "      <td>NaN</td>\n",
       "      <td>0.030496</td>\n",
       "      <td>NaN</td>\n",
       "      <td>...</td>\n",
       "      <td>NaN</td>\n",
       "      <td>NaN</td>\n",
       "      <td>NaN</td>\n",
       "      <td>NaN</td>\n",
       "      <td>NaN</td>\n",
       "      <td>NaN</td>\n",
       "      <td>NaN</td>\n",
       "      <td>NaN</td>\n",
       "      <td>NaN</td>\n",
       "      <td>NaN</td>\n",
       "    </tr>\n",
       "    <tr>\n",
       "      <th>1</th>\n",
       "      <td>1</td>\n",
       "      <td>NaN</td>\n",
       "      <td>0.184962</td>\n",
       "      <td>0.024561</td>\n",
       "      <td>NaN</td>\n",
       "      <td>NaN</td>\n",
       "      <td>0.136341</td>\n",
       "      <td>NaN</td>\n",
       "      <td>NaN</td>\n",
       "      <td>NaN</td>\n",
       "      <td>...</td>\n",
       "      <td>NaN</td>\n",
       "      <td>NaN</td>\n",
       "      <td>NaN</td>\n",
       "      <td>NaN</td>\n",
       "      <td>NaN</td>\n",
       "      <td>NaN</td>\n",
       "      <td>NaN</td>\n",
       "      <td>NaN</td>\n",
       "      <td>NaN</td>\n",
       "      <td>NaN</td>\n",
       "    </tr>\n",
       "    <tr>\n",
       "      <th>2</th>\n",
       "      <td>2</td>\n",
       "      <td>NaN</td>\n",
       "      <td>NaN</td>\n",
       "      <td>0.028635</td>\n",
       "      <td>NaN</td>\n",
       "      <td>NaN</td>\n",
       "      <td>NaN</td>\n",
       "      <td>0.024559</td>\n",
       "      <td>NaN</td>\n",
       "      <td>NaN</td>\n",
       "      <td>...</td>\n",
       "      <td>NaN</td>\n",
       "      <td>NaN</td>\n",
       "      <td>NaN</td>\n",
       "      <td>NaN</td>\n",
       "      <td>NaN</td>\n",
       "      <td>NaN</td>\n",
       "      <td>NaN</td>\n",
       "      <td>NaN</td>\n",
       "      <td>NaN</td>\n",
       "      <td>NaN</td>\n",
       "    </tr>\n",
       "    <tr>\n",
       "      <th>3</th>\n",
       "      <td>3</td>\n",
       "      <td>NaN</td>\n",
       "      <td>NaN</td>\n",
       "      <td>NaN</td>\n",
       "      <td>NaN</td>\n",
       "      <td>NaN</td>\n",
       "      <td>NaN</td>\n",
       "      <td>NaN</td>\n",
       "      <td>NaN</td>\n",
       "      <td>NaN</td>\n",
       "      <td>...</td>\n",
       "      <td>NaN</td>\n",
       "      <td>NaN</td>\n",
       "      <td>NaN</td>\n",
       "      <td>NaN</td>\n",
       "      <td>NaN</td>\n",
       "      <td>NaN</td>\n",
       "      <td>NaN</td>\n",
       "      <td>NaN</td>\n",
       "      <td>NaN</td>\n",
       "      <td>NaN</td>\n",
       "    </tr>\n",
       "    <tr>\n",
       "      <th>4</th>\n",
       "      <td>4</td>\n",
       "      <td>0.043529</td>\n",
       "      <td>0.086281</td>\n",
       "      <td>0.034590</td>\n",
       "      <td>0.016712</td>\n",
       "      <td>0.015935</td>\n",
       "      <td>NaN</td>\n",
       "      <td>NaN</td>\n",
       "      <td>NaN</td>\n",
       "      <td>NaN</td>\n",
       "      <td>...</td>\n",
       "      <td>NaN</td>\n",
       "      <td>NaN</td>\n",
       "      <td>NaN</td>\n",
       "      <td>NaN</td>\n",
       "      <td>NaN</td>\n",
       "      <td>NaN</td>\n",
       "      <td>NaN</td>\n",
       "      <td>NaN</td>\n",
       "      <td>NaN</td>\n",
       "      <td>NaN</td>\n",
       "    </tr>\n",
       "  </tbody>\n",
       "</table>\n",
       "<p>5 rows × 1001 columns</p>\n",
       "</div>"
      ],
      "text/plain": [
       "   user  the beatles  radiohead  deathcab for cutie  coldplay  modest mouse  \\\n",
       "0     0          NaN   0.020417                 NaN       NaN           NaN   \n",
       "1     1          NaN   0.184962            0.024561       NaN           NaN   \n",
       "2     2          NaN        NaN            0.028635       NaN           NaN   \n",
       "3     3          NaN        NaN                 NaN       NaN           NaN   \n",
       "4     4     0.043529   0.086281            0.034590  0.016712      0.015935   \n",
       "\n",
       "   sufjan stevens  dylan. bob  red hot clili peppers  pink fluid  ...  \\\n",
       "0             NaN         NaN               0.030496         NaN  ...   \n",
       "1        0.136341         NaN                    NaN         NaN  ...   \n",
       "2             NaN    0.024559                    NaN         NaN  ...   \n",
       "3             NaN         NaN                    NaN         NaN  ...   \n",
       "4             NaN         NaN                    NaN         NaN  ...   \n",
       "\n",
       "   municipal waste  townes van zandt  curtis mayfield  jewel  lamb  \\\n",
       "0              NaN               NaN              NaN    NaN   NaN   \n",
       "1              NaN               NaN              NaN    NaN   NaN   \n",
       "2              NaN               NaN              NaN    NaN   NaN   \n",
       "3              NaN               NaN              NaN    NaN   NaN   \n",
       "4              NaN               NaN              NaN    NaN   NaN   \n",
       "\n",
       "   michal w. smith  群星  agalloch  meshuggah  yellowcard  \n",
       "0              NaN NaN       NaN        NaN         NaN  \n",
       "1              NaN NaN       NaN        NaN         NaN  \n",
       "2              NaN NaN       NaN        NaN         NaN  \n",
       "3              NaN NaN       NaN        NaN         NaN  \n",
       "4              NaN NaN       NaN        NaN         NaN  \n",
       "\n",
       "[5 rows x 1001 columns]"
      ]
     },
     "execution_count": 79,
     "metadata": {},
     "output_type": "execute_result"
    }
   ],
   "source": [
    "import pandas as pd\n",
    "ratings = pd.read_excel(\"https://github.com/evgpat/edu_stepik_rec_sys/blob/main/datasets/sample_matrix.xlsx?raw=true\", engine='openpyxl')\n",
    "ratings.head()"
   ]
  },
  {
   "cell_type": "markdown",
   "id": "sGeCPjTAoxWs",
   "metadata": {
    "id": "sGeCPjTAoxWs"
   },
   "source": [
    "Будем строить кластеризацию исполнителей: если двух исполнителей слушало много людей примерно одинаковую долю своего времени (то есть векторы близки в пространстве), то, возможно исполнители похожи. Эта информация может быть полезна при построении рекомендательных систем."
   ]
  },
  {
   "cell_type": "code",
   "execution_count": 102,
   "id": "de0f76dc-9570-4c70-9ce2-eeaabd7cfcc3",
   "metadata": {},
   "outputs": [],
   "source": [
    "df_first = ratings"
   ]
  },
  {
   "cell_type": "markdown",
   "id": "R37mE-R2_3Wj",
   "metadata": {
    "id": "R37mE-R2_3Wj"
   },
   "source": [
    "## Задание 1 (0.5 балла) Подготовка"
   ]
  },
  {
   "cell_type": "markdown",
   "id": "orn7K6q8plA5",
   "metadata": {
    "id": "orn7K6q8plA5"
   },
   "source": [
    "Транспонируем матрицу ratings, чтобы по строкам стояли исполнители."
   ]
  },
  {
   "cell_type": "code",
   "execution_count": 103,
   "id": "KU6ljPlCpiwH",
   "metadata": {
    "id": "KU6ljPlCpiwH"
   },
   "outputs": [],
   "source": [
    "ratings = ratings.set_index('user').transpose()"
   ]
  },
  {
   "cell_type": "markdown",
   "id": "WEKrlEhMpkhF",
   "metadata": {
    "id": "WEKrlEhMpkhF"
   },
   "source": [
    "Выкиньте строку под названием `user`."
   ]
  },
  {
   "cell_type": "code",
   "execution_count": 104,
   "id": "yAaV1q9TpuMh",
   "metadata": {
    "id": "yAaV1q9TpuMh"
   },
   "outputs": [],
   "source": [
    "ratings = ratings.drop('user', errors='ignore')"
   ]
  },
  {
   "cell_type": "markdown",
   "id": "Z823IqqPpv_s",
   "metadata": {
    "id": "Z823IqqPpv_s"
   },
   "source": [
    "В таблице много пропусков, так как пользователи слушают не всех-всех исполнителей, чья музыка представлена в сервисе, а некоторое подмножество (обычно около 30 исполнителей)\n",
    "\n",
    "\n",
    "Доля исполнителя в музыке, прослушанной  пользователем, равна 0, если пользователь никогда не слушал музыку данного музыканта, поэтому заполните пропуски нулями.\n",
    "\n"
   ]
  },
  {
   "cell_type": "code",
   "execution_count": 105,
   "id": "XRdHzXJUsOeS",
   "metadata": {
    "colab": {
     "base_uri": "https://localhost:8080/",
     "height": 110
    },
    "id": "XRdHzXJUsOeS",
    "outputId": "499ea6da-ce25-4a04-8827-79306a3c39b2"
   },
   "outputs": [
    {
     "data": {
      "text/html": [
       "<div>\n",
       "<style scoped>\n",
       "    .dataframe tbody tr th:only-of-type {\n",
       "        vertical-align: middle;\n",
       "    }\n",
       "\n",
       "    .dataframe tbody tr th {\n",
       "        vertical-align: top;\n",
       "    }\n",
       "\n",
       "    .dataframe thead th {\n",
       "        text-align: right;\n",
       "    }\n",
       "</style>\n",
       "<table border=\"1\" class=\"dataframe\">\n",
       "  <thead>\n",
       "    <tr style=\"text-align: right;\">\n",
       "      <th>user</th>\n",
       "      <th>0</th>\n",
       "      <th>1</th>\n",
       "      <th>2</th>\n",
       "      <th>3</th>\n",
       "      <th>4</th>\n",
       "      <th>5</th>\n",
       "      <th>6</th>\n",
       "      <th>7</th>\n",
       "      <th>8</th>\n",
       "      <th>9</th>\n",
       "      <th>...</th>\n",
       "      <th>4990</th>\n",
       "      <th>4991</th>\n",
       "      <th>4992</th>\n",
       "      <th>4993</th>\n",
       "      <th>4994</th>\n",
       "      <th>4995</th>\n",
       "      <th>4996</th>\n",
       "      <th>4997</th>\n",
       "      <th>4998</th>\n",
       "      <th>4999</th>\n",
       "    </tr>\n",
       "  </thead>\n",
       "  <tbody>\n",
       "    <tr>\n",
       "      <th>fear factory</th>\n",
       "      <td>0.0</td>\n",
       "      <td>0.0</td>\n",
       "      <td>0.0</td>\n",
       "      <td>0.0</td>\n",
       "      <td>0.0</td>\n",
       "      <td>0.0</td>\n",
       "      <td>0.0</td>\n",
       "      <td>0.0</td>\n",
       "      <td>0.0</td>\n",
       "      <td>0.0</td>\n",
       "      <td>...</td>\n",
       "      <td>0.0</td>\n",
       "      <td>0.0</td>\n",
       "      <td>0.0</td>\n",
       "      <td>0.0</td>\n",
       "      <td>0.0</td>\n",
       "      <td>0.0</td>\n",
       "      <td>0.0</td>\n",
       "      <td>0.0</td>\n",
       "      <td>0.0</td>\n",
       "      <td>0.0</td>\n",
       "    </tr>\n",
       "  </tbody>\n",
       "</table>\n",
       "<p>1 rows × 5000 columns</p>\n",
       "</div>"
      ],
      "text/plain": [
       "user          0     1     2     3     4     5     6     7     8     9     ...  \\\n",
       "fear factory   0.0   0.0   0.0   0.0   0.0   0.0   0.0   0.0   0.0   0.0  ...   \n",
       "\n",
       "user          4990  4991  4992  4993  4994  4995  4996  4997  4998  4999  \n",
       "fear factory   0.0   0.0   0.0   0.0   0.0   0.0   0.0   0.0   0.0   0.0  \n",
       "\n",
       "[1 rows x 5000 columns]"
      ]
     },
     "execution_count": 105,
     "metadata": {},
     "output_type": "execute_result"
    }
   ],
   "source": [
    "ratings = ratings.fillna(0)\n",
    "ratings.sample()"
   ]
  },
  {
   "cell_type": "markdown",
   "id": "0_1D0JnmAAjL",
   "metadata": {
    "id": "0_1D0JnmAAjL"
   },
   "source": [
    "## Задание 2 (0.5 балла) Первая кластеризация"
   ]
  },
  {
   "cell_type": "markdown",
   "id": "ARuDv5grstBl",
   "metadata": {
    "id": "ARuDv5grstBl"
   },
   "source": [
    "Примените KMeans с 5ю кластерами, сохраните полученные лейблы"
   ]
  },
  {
   "cell_type": "code",
   "execution_count": 106,
   "id": "r2HxwIN5ssoO",
   "metadata": {
    "id": "r2HxwIN5ssoO"
   },
   "outputs": [
    {
     "name": "stderr",
     "output_type": "stream",
     "text": [
      "/opt/anaconda3/lib/python3.11/site-packages/sklearn/cluster/_kmeans.py:870: FutureWarning: The default value of `n_init` will change from 10 to 'auto' in 1.4. Set the value of `n_init` explicitly to suppress the warning\n",
      "  warnings.warn(\n"
     ]
    }
   ],
   "source": [
    "from sklearn.cluster import KMeans\n",
    "kmeans = KMeans(n_clusters=5, random_state=0)\n",
    "kmeans.fit(ratings)\n",
    "labels = kmeans.labels_"
   ]
  },
  {
   "cell_type": "markdown",
   "id": "aoWre3460SVi",
   "metadata": {
    "id": "aoWre3460SVi"
   },
   "source": [
    "Выведите размеры кластеров. Полезной ли получилась кластеризация? Почему KMeans может выдать такой результат?"
   ]
  },
  {
   "cell_type": "code",
   "execution_count": 107,
   "id": "zsGGw7ha1OhP",
   "metadata": {
    "id": "zsGGw7ha1OhP"
   },
   "outputs": [
    {
     "name": "stdout",
     "output_type": "stream",
     "text": [
      "[996   1   1   1   1]\n"
     ]
    }
   ],
   "source": [
    "print(np.bincount(labels))"
   ]
  },
  {
   "cell_type": "markdown",
   "id": "lCcSpb2o11nZ",
   "metadata": {
    "id": "lCcSpb2o11nZ"
   },
   "source": [
    "**Ответ:** Таблица имеет много пропусков (NaN), что указывает на то, что большинство пользователей слушают ограниченное количество исполнителей, и так как большинство значений в таблице равны нулю (что означает, что пользователь не слушал данного исполнителя), то модели кластеризации будет трудно найти значимые кластеры, по итогу он собрал почти все в один большой."
   ]
  },
  {
   "cell_type": "markdown",
   "id": "HDLIxdWBAMql",
   "metadata": {
    "id": "HDLIxdWBAMql"
   },
   "source": [
    "## Задание 3 (0.5 балла) Объяснение результатов"
   ]
  },
  {
   "cell_type": "markdown",
   "id": "Z0LPwxlK6PX3",
   "metadata": {
    "id": "Z0LPwxlK6PX3"
   },
   "source": [
    "При кластеризации получилось $\\geq 1$ кластера размера 1. Выведите исполнителей, которые составляют такие кластеры. Среди них должна быть группа The Beatles."
   ]
  },
  {
   "cell_type": "code",
   "execution_count": 108,
   "id": "GpopP65iUXiJ",
   "metadata": {
    "id": "GpopP65iUXiJ"
   },
   "outputs": [
    {
     "name": "stdout",
     "output_type": "stream",
     "text": [
      "Index(['the beatles', 'daft punk', 'morricone', '보아'], dtype='object')\n"
     ]
    }
   ],
   "source": [
    "one_clust = np.where(np.bincount(labels) == 1)[0]\n",
    "one_clust = ratings.index[np.isin(labels, one_clust)]\n",
    "print(one_clust)"
   ]
  },
  {
   "cell_type": "code",
   "execution_count": 109,
   "id": "be532599-0325-424a-930b-cd5567b4ab34",
   "metadata": {},
   "outputs": [
    {
     "name": "stdout",
     "output_type": "stream",
     "text": [
      "Доля пользователей, которые слушают каждого исполнителя:\n",
      "the beatles           0.3342\n",
      "radiohead             0.2778\n",
      "deathcab for cutie    0.1862\n",
      "coldplay              0.1682\n",
      "modest mouse          0.1628\n",
      "                       ...  \n",
      "michal w. smith       0.0094\n",
      "群星                    0.0094\n",
      "agalloch              0.0094\n",
      "meshuggah             0.0094\n",
      "yellowcard            0.0094\n",
      "Length: 1000, dtype: float64\n",
      "Средняя доля прослушивания для каждого исполнителя:\n",
      "the beatles           0.018369\n",
      "radiohead             0.011851\n",
      "deathcab for cutie    0.006543\n",
      "coldplay              0.006030\n",
      "modest mouse          0.005876\n",
      "                        ...   \n",
      "michal w. smith       0.000895\n",
      "群星                    0.000519\n",
      "agalloch              0.000997\n",
      "meshuggah             0.000431\n",
      "yellowcard            0.000320\n",
      "Length: 1000, dtype: float64\n",
      "Исполнители с самой высокой долей пользователей:\n",
      "the beatles              0.3342\n",
      "radiohead                0.2778\n",
      "deathcab for cutie       0.1862\n",
      "coldplay                 0.1682\n",
      "modest mouse             0.1628\n",
      "sufjan stevens           0.1292\n",
      "dylan. bob               0.1262\n",
      "red hot clili peppers    0.1258\n",
      "pink fluid               0.1256\n",
      "kanye west               0.1250\n",
      "dtype: float64\n",
      "Исполнители с самой высокой средней долей прослушивания:\n",
      "the beatles           0.018369\n",
      "radiohead             0.011851\n",
      "deathcab for cutie    0.006543\n",
      "niИ                   0.006470\n",
      "coldplay              0.006030\n",
      "modest mouse          0.005876\n",
      "sufjan stevens        0.004969\n",
      "dylan. bob            0.004963\n",
      "pink fluid            0.004909\n",
      "elliotte smith        0.004842\n",
      "dtype: float64\n"
     ]
    }
   ],
   "source": [
    "user_counts = (ratings > 0).sum(axis=1) / ratings.shape[1]\n",
    "print(\"Доля слушателей, которые слушают каждого исполнителя:\")\n",
    "print(user_counts)\n",
    "# Рассчитаем среднюю долю прослушивания для каждого исполнителя\n",
    "mean_listening_shares = ratings.mean(axis=1)\n",
    "print(\"Средняя доля прослушивания для каждого исполнителя:\")\n",
    "print(mean_listening_shares)\n",
    "top_artists_by_users = user_counts.sort_values(ascending=False).head(10)\n",
    "top_artists_by_listening = mean_listening_shares.sort_values(ascending=False).head(10)\n",
    "print(\"Исполнители с самой высокой долей пользователей:\")\n",
    "print(top_artists_by_users)\n",
    "print(\"Исполнители с самой высокой средней долей прослушивания:\")\n",
    "print(top_artists_by_listening)"
   ]
  },
  {
   "cell_type": "markdown",
   "id": "brfvihta6yyG",
   "metadata": {
    "id": "brfvihta6yyG"
   },
   "source": [
    "Изучите данные, почему именно The Beatles выделяется?\n",
    "\n",
    "Подсказка: посмотрите на долю пользователей, которые слушают каждого исполнителя, среднюю долю прослушивания."
   ]
  },
  {
   "cell_type": "markdown",
   "id": "5a6f9eb7-c65c-4058-983f-f64c3195f2dd",
   "metadata": {
    "id": "xnK6DL-aUdPi"
   },
   "source": [
    "Все логично, так как битлз слушают чаще, чем кого-либо еще, поэтому он попал в отдельный кластер исполнителей."
   ]
  },
  {
   "cell_type": "markdown",
   "id": "faW2kZFjAS9X",
   "metadata": {
    "id": "faW2kZFjAS9X"
   },
   "source": [
    "## Задание 4 (0.5 балла) Улучшение кластеризации"
   ]
  },
  {
   "cell_type": "markdown",
   "id": "Yzz3BbBw9KKt",
   "metadata": {
    "id": "Yzz3BbBw9KKt"
   },
   "source": [
    "Попытаемся избавиться от этой проблемы: нормализуйте данные при помощи `normalize`."
   ]
  },
  {
   "cell_type": "code",
   "execution_count": 97,
   "id": "zg_crbGI9RNG",
   "metadata": {
    "id": "zg_crbGI9RNG"
   },
   "outputs": [
    {
     "name": "stderr",
     "output_type": "stream",
     "text": [
      "/opt/anaconda3/lib/python3.11/site-packages/sklearn/cluster/_kmeans.py:870: FutureWarning: The default value of `n_init` will change from 10 to 'auto' in 1.4. Set the value of `n_init` explicitly to suppress the warning\n",
      "  warnings.warn(\n"
     ]
    },
    {
     "name": "stdout",
     "output_type": "stream",
     "text": [
      "[208 129 230  89 344]\n"
     ]
    }
   ],
   "source": [
    "from sklearn.preprocessing import normalize\n",
    "ratings = normalize(ratings)\n",
    "kmeans = KMeans(n_clusters=5, random_state=0)\n",
    "kmeans.fit(ratings)\n",
    "labels = kmeans.labels_\n",
    "print(np.bincount(labels))"
   ]
  },
  {
   "cell_type": "markdown",
   "id": "vFlwI4ec-SuY",
   "metadata": {
    "id": "vFlwI4ec-SuY"
   },
   "source": [
    "Примените KMeans с 5ю кластерами на преобразованной матрице, посмотрите на их размеры. Стало ли лучше? Может ли кластеризация быть полезной теперь?"
   ]
  },
  {
   "cell_type": "markdown",
   "id": "Xj9fyDKd-bzk",
   "metadata": {
    "id": "Xj9fyDKd-bzk"
   },
   "source": [
    "**Ответ** У нас появилось более равномерное распределение, а значит, у нас есть значимые группы исполнителей. Стало, безусловно, лучше."
   ]
  },
  {
   "cell_type": "markdown",
   "id": "zFsXACPxAhyv",
   "metadata": {
    "id": "zFsXACPxAhyv"
   },
   "source": [
    "## Задание 5 (1 балл) Центроиды"
   ]
  },
  {
   "cell_type": "markdown",
   "id": "qG5cISdzu7Jh",
   "metadata": {
    "id": "qG5cISdzu7Jh"
   },
   "source": [
    "Выведите для каждого кластера названия топ-10 исполнителей, ближайших к центроиду по косинусной мере. Проинтерпретируйте результат. Что можно сказать о смысле кластеров?"
   ]
  },
  {
   "cell_type": "code",
   "execution_count": null,
   "id": "Q3gI8OlKuCG6",
   "metadata": {
    "id": "Q3gI8OlKuCG6"
   },
   "outputs": [],
   "source": [
    "from scipy.spatial.distance import cosine\n",
    "\n",
    "\n",
    "centroids = km.cluster_centers_\n",
    "\n",
    "# -- YOUR CODE HERE --"
   ]
  },
  {
   "cell_type": "markdown",
   "id": "GwioYtvAxqxT",
   "metadata": {
    "id": "GwioYtvAxqxT"
   },
   "source": [
    "**Ответ:** # -- YOUR ANSWER HERE --"
   ]
  },
  {
   "cell_type": "markdown",
   "id": "TkBh9Dk2C_el",
   "metadata": {
    "id": "TkBh9Dk2C_el"
   },
   "source": [
    "## Задание 6 (1 балл) Визуализация"
   ]
  },
  {
   "cell_type": "markdown",
   "id": "GzP-OoAZDony",
   "metadata": {
    "id": "GzP-OoAZDony"
   },
   "source": [
    "Хотелось бы как-то визуализировать полученную кластеризацию. Постройте точечные графики `plt.scatter` для нескольких пар признаков исполнителей, покрасив точки в цвета кластеров. Почему визуализации получились такими? Хорошо ли они отражают разделение на кластеры? Почему?"
   ]
  },
  {
   "cell_type": "code",
   "execution_count": null,
   "id": "HyVqnEQ3DWgm",
   "metadata": {
    "id": "HyVqnEQ3DWgm"
   },
   "outputs": [],
   "source": [
    "import matplotlib.pyplot as plt\n",
    "\n",
    "# -- YOUR CODE HERE --"
   ]
  },
  {
   "cell_type": "markdown",
   "id": "O5t7YabAFPe4",
   "metadata": {
    "id": "O5t7YabAFPe4"
   },
   "source": [
    "**Ответ:** # -- YOUR ANSWER HERE --"
   ]
  },
  {
   "cell_type": "markdown",
   "id": "ZuPjFHu4GuHK",
   "metadata": {
    "id": "ZuPjFHu4GuHK"
   },
   "source": [
    "Для визуализации данных высокой размерности существует метод t-SNE (стохастическое вложение соседей с t-распределением). Данный метод является нелинейным методом снижения размерности: каждый объект высокой размерности будет моделироваться объектов более низкой (например, 2) размерности таким образом, чтобы похожие объекты моделировались близкими, непохожие - далекими с большой вероятностью.\n",
    "\n",
    "Примените `TSNE` из библиотеки `sklearn` и визуализируйте полученные объекты, покрасив их в цвета их кластеров"
   ]
  },
  {
   "cell_type": "code",
   "execution_count": null,
   "id": "CVNPXKvcH7uV",
   "metadata": {
    "id": "CVNPXKvcH7uV"
   },
   "outputs": [],
   "source": [
    "from sklearn.manifold import TSNE\n",
    "\n",
    "# -- YOUR CODE HERE --"
   ]
  },
  {
   "cell_type": "markdown",
   "id": "Mi1frYgFJCrT",
   "metadata": {
    "id": "Mi1frYgFJCrT"
   },
   "source": [
    "## Задание 7 (1 балл) Подбор гиперпараметров"
   ]
  },
  {
   "cell_type": "markdown",
   "id": "7UKDZt-bAokD",
   "metadata": {
    "id": "7UKDZt-bAokD"
   },
   "source": [
    "Подберите оптимальное количество кластеров (максимум 100 кластеров) с использованием индекса Силуэта. Зафиксируйте `random_state=42`"
   ]
  },
  {
   "cell_type": "code",
   "execution_count": null,
   "id": "S4CxV_XJAy0A",
   "metadata": {
    "id": "S4CxV_XJAy0A"
   },
   "outputs": [],
   "source": [
    "from sklearn.metrics import silhouette_score\n",
    "\n",
    "# -- YOUR CODE HERE --"
   ]
  },
  {
   "cell_type": "markdown",
   "id": "J81KdOFtJORV",
   "metadata": {
    "id": "J81KdOFtJORV"
   },
   "source": [
    "Выведите исполнителей, ближайших с центроидам (аналогично заданию 5). Как соотносятся результаты? Остался ли смысл кластеров прежним? Расскажите про смысл 1-2 интересных кластеров, если он изменился и кластеров слишком много, чтобы рассказать про все."
   ]
  },
  {
   "cell_type": "code",
   "execution_count": null,
   "id": "HMY-058kBqO0",
   "metadata": {
    "id": "HMY-058kBqO0"
   },
   "outputs": [],
   "source": [
    "# -- YOUR CODE HERE --"
   ]
  },
  {
   "cell_type": "markdown",
   "id": "LeWEK2QsJkiX",
   "metadata": {
    "id": "LeWEK2QsJkiX"
   },
   "source": [
    "**Ответ:** # -- YOUR ANSWER HERE --"
   ]
  },
  {
   "cell_type": "markdown",
   "id": "YluT0kiGPe4j",
   "metadata": {
    "id": "YluT0kiGPe4j"
   },
   "source": [
    "Сделайте t-SNE визуализацию полученной кластеризации."
   ]
  },
  {
   "cell_type": "code",
   "execution_count": null,
   "id": "00rY7Z6XPfPa",
   "metadata": {
    "id": "00rY7Z6XPfPa"
   },
   "outputs": [],
   "source": [
    "# -- YOUR CODE HERE --"
   ]
  },
  {
   "cell_type": "markdown",
   "id": "Eo8H1sNqQqiF",
   "metadata": {
    "id": "Eo8H1sNqQqiF"
   },
   "source": [
    "Если кластеров получилось слишком много и визуально цвета плохо отличаются, покрасьте только какой-нибудь интересный кластер из задания выше (`c = (labels == i)`). Хорошо ли этот кластер отражается в визуализации?"
   ]
  },
  {
   "cell_type": "code",
   "execution_count": null,
   "id": "E4oXA3qTQwWT",
   "metadata": {
    "id": "E4oXA3qTQwWT"
   },
   "outputs": [],
   "source": [
    "# -- YOUR CODE HERE --"
   ]
  },
  {
   "cell_type": "markdown",
   "id": "SHxur6z7Q0fu",
   "metadata": {
    "id": "SHxur6z7Q0fu"
   },
   "source": [
    "**Ответ:** # -- YOUR ANSWER HERE --"
   ]
  }
 ],
 "metadata": {
  "colab": {
   "provenance": []
  },
  "kernelspec": {
   "display_name": "Python 3 (ipykernel)",
   "language": "python",
   "name": "python3"
  },
  "language_info": {
   "codemirror_mode": {
    "name": "ipython",
    "version": 3
   },
   "file_extension": ".py",
   "mimetype": "text/x-python",
   "name": "python",
   "nbconvert_exporter": "python",
   "pygments_lexer": "ipython3",
   "version": "3.11.7"
  }
 },
 "nbformat": 4,
 "nbformat_minor": 5
}
